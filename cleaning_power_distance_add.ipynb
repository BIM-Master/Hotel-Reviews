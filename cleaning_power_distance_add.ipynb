{
  "cells": [
    {
      "cell_type": "markdown",
      "metadata": {
        "id": "view-in-github",
        "colab_type": "text"
      },
      "source": [
        "<a href=\"https://colab.research.google.com/github/BIM-Master/Hotel-Reviews/blob/Power-Distance/cleaning_power_distance_add.ipynb\" target=\"_parent\"><img src=\"https://colab.research.google.com/assets/colab-badge.svg\" alt=\"Open In Colab\"/></a>"
      ]
    },
    {
      "cell_type": "markdown",
      "metadata": {
        "id": "Wf5KrEb6vrkR"
      },
      "source": [
        "<div class=\"markdown-google-sans\">\n",
        "  <h1>Welcome to Colab!</h1>\n",
        "</div>\n",
        "\n",
        "<!-- TODO(b/319266067) remove temporary advert after a few weeks. -->\n",
        "<div class=\"markdown-google-sans\">\n",
        "  <h2>&#40;New&#41; Try the Gemini API</h2>\n",
        "  <ul>\n",
        "  <li><a href=\"https://makersuite.google.com/app/apikey\">Generate a Gemini API key</a></li>\n",
        "  <li><a href=\"https://colab.research.google.com/github/googlecolab/colabtools/blob/main/notebooks/Talk_to_Gemini_with_Google%27s_Speech_to_Text_API.ipynb?utm_medium=link&utm_campaign=gemini\">Talk to Gemini with the Speech-to-Text API</a></li>\n",
        "  <li><a href=\"https://colab.research.google.com/github/google/generative-ai-docs/blob/main/site/en/tutorials/quickstart_colab.ipynb?utm_medium=link&utm_campaign=gemini\">Gemini API: Quickstart with Python</a></li>\n",
        "  <li><a href=\"https://colab.research.google.com/notebooks/snippets/gemini.ipynb?utm_medium=link&utm_campaign=gemini\">Gemini API code sample</a></li>\n",
        "  <li><a href=\"https://colab.research.google.com/github/googlecolab/colabtools/blob/main/notebooks/Learning_with_Gemini_and_ChatGPT.ipynb?utm_medium=link&utm_campaign=gemini\">Compare Gemini with ChatGPT</a></li>  \n",
        "  <li><a href=\"https://colab.google/notebooks/?utm_medium=link&utm_campaign=gemini\">More notebooks</a></li>\n",
        "  </ul>\n",
        "</div>\n"
      ]
    },
    {
      "cell_type": "code",
      "source": [
        "import pandas as pd\n",
        "\n",
        "# Load CSV into DataFrame and a temp dataframe\n",
        "hotel_reviews = pd.read_csv('/content/Hotel_Reviews 2.csv')\n",
        "temp = hotel_reviews\n",
        "power_distance_df = pd.read_csv('/content/power_distance_nationalities3.csv', delimiter=';')\n"
      ],
      "metadata": {
        "id": "2_1sEnhj8BaI"
      },
      "execution_count": null,
      "outputs": []
    },
    {
      "cell_type": "code",
      "source": [
        "columns_to_remove = [\"Hotel_Address\", \"Additional_Number_of_Scoring\", \"Days_since_review\", \"lat\", \"lng\"]\n",
        "#remove unnecessary columns from database of reviews\n",
        "temp = temp.drop(columns=columns_to_remove, errors='ignore')"
      ],
      "metadata": {
        "id": "2vcIO7EwhD5M"
      },
      "execution_count": null,
      "outputs": []
    },
    {
      "cell_type": "code",
      "source": [
        "# string split the two relevant columns to ensure no unnecessary spaces at the start or end\n",
        "temp['Reviewer_Nationality'] = temp['Reviewer_Nationality'].str.strip()\n",
        "power_distance_df['Reviewer_Nationality'] = power_distance_df['Reviewer_Nationality'].str.strip()\n",
        "\n",
        "# After cleaning, use merge function to add power distance as a new column with the\n",
        "# corresponding pd value based on nationality\n",
        "hotel_reviews_new = temp.merge(power_distance_df, on='Reviewer_Nationality', how='left')\n",
        "print(hotel_reviews_new.head())"
      ],
      "metadata": {
        "colab": {
          "base_uri": "https://localhost:8080/"
        },
        "id": "Eat_3gqoYlPU",
        "outputId": "421590c6-909c-40b2-be07-78bd5f1702b2"
      },
      "execution_count": null,
      "outputs": [
        {
          "output_type": "stream",
          "name": "stdout",
          "text": [
            "  Review_Date  Average_Score   Hotel_Name Reviewer_Nationality  \\\n",
            "0    8/3/2017            7.7  Hotel Arena               Russia   \n",
            "1    8/3/2017            7.7  Hotel Arena              Ireland   \n",
            "2   7/31/2017            7.7  Hotel Arena            Australia   \n",
            "3   7/31/2017            7.7  Hotel Arena       United Kingdom   \n",
            "4   7/24/2017            7.7  Hotel Arena          New Zealand   \n",
            "\n",
            "                                     Negative_Review  \\\n",
            "0   I am so angry that i made this post available...   \n",
            "1                                        No Negative   \n",
            "2   Rooms are nice but for elderly a bit difficul...   \n",
            "3   My room was dirty and I was afraid to walk ba...   \n",
            "4   You When I booked with your company on line y...   \n",
            "\n",
            "   Review_Total_Negative_Word_Counts  Total_Number_of_Reviews  \\\n",
            "0                                397                     1403   \n",
            "1                                  0                     1403   \n",
            "2                                 42                     1403   \n",
            "3                                210                     1403   \n",
            "4                                140                     1403   \n",
            "\n",
            "                                     Positive_Review  \\\n",
            "0   Only the park outside of the hotel was beauti...   \n",
            "1   No real complaints the hotel was great great ...   \n",
            "2   Location was good and staff were ok It is cut...   \n",
            "3   Great location in nice surroundings the bar a...   \n",
            "4    Amazing location and building Romantic setting    \n",
            "\n",
            "   Review_Total_Positive_Word_Counts  \\\n",
            "0                                 11   \n",
            "1                                105   \n",
            "2                                 21   \n",
            "3                                 26   \n",
            "4                                  8   \n",
            "\n",
            "   Total_Number_of_Reviews_Reviewer_Has_Given  Reviewer_Score  \\\n",
            "0                                           7             2.9   \n",
            "1                                           7             7.5   \n",
            "2                                           9             7.1   \n",
            "3                                           1             3.8   \n",
            "4                                           3             6.7   \n",
            "\n",
            "                                                Tags Power_Distance  \n",
            "0  [' Leisure trip ', ' Couple ', ' Duplex Double...             93  \n",
            "1  [' Leisure trip ', ' Couple ', ' Duplex Double...             28  \n",
            "2  [' Leisure trip ', ' Family with young childre...             38  \n",
            "3  [' Leisure trip ', ' Solo traveler ', ' Duplex...             35  \n",
            "4  [' Leisure trip ', ' Couple ', ' Suite ', ' St...             22  \n"
          ]
        }
      ]
    },
    {
      "cell_type": "code",
      "source": [
        "#print unique power distance values\n",
        "unique_pd = hotel_reviews_new['Power_Distance'].unique()\n",
        "print(\"Unique pd:\", unique_pd)\n",
        "\n",
        "############ continues, check for nan and print corresponding nationalities##############\n",
        "nan_power_distance = hotel_reviews_new[hotel_reviews_new['Power_Distance'].isna()]\n",
        "\n",
        "# Get distinct nationalities that have NaN in 'Power_Distance' (i.e the ones we need to add\n",
        "# to the pd dataframe in order to do a succesful and complete implementation of the pd variable)\n",
        "distinct_nationalities_with_nan = nan_power_distance['Reviewer_Nationality'].unique()\n",
        "\n",
        "# Print the distinct nationalities with NaN values in 'Power_Distance'\n",
        "print(\"NATIONALITIES WITH NAN VALUES:\")\n",
        "print(distinct_nationalities_with_nan)\n",
        "\n",
        "######## any values printed by the above function must be either removed due to a blank entry or\n",
        "######## that nationlity needs to be added to the list of nationalities in the pd dataframe"
      ],
      "metadata": {
        "colab": {
          "base_uri": "https://localhost:8080/"
        },
        "id": "9I25LudNBrNO",
        "outputId": "51726546-98a4-430f-b154-4418fdae78c4"
      },
      "execution_count": null,
      "outputs": [
        {
          "output_type": "stream",
          "name": "stdout",
          "text": [
            "Unique pd: ['93' '28' '38' '35' '22' '68' '65' '31' '50' '39' '40' '46' '13' '34'\n",
            " '77' '90' '104' '18' '49' '70' '33' '63' '57' '56' '80' '66' '92' '73'\n",
            " '95' '42' '71' '11' '69' '58' '30' '75' '60' '64' '74' '35,00' '44' '54'\n",
            " '100' '86' '78' '94' '88' '61' '55' '85' nan '47' '81' '83' '67' '97'\n",
            " '45' '82' '0' '39,00' '65,00']\n",
            "NATIONALITIES WITH NAN VALUES:\n",
            "['']\n"
          ]
        }
      ]
    },
    {
      "cell_type": "markdown",
      "metadata": {
        "id": "5fCEDCU_qrC0"
      },
      "source": [
        "<div class=\"markdown-google-sans\">\n",
        "  <h2>What is Colab?</h2>\n",
        "</div>\n",
        "\n",
        "Colab, or ‘Colaboratory’, allows you to write and execute Python in your browser, with\n",
        "- Zero configuration required\n",
        "- Access to GPUs free of charge\n",
        "- Easy sharing\n",
        "\n",
        "Whether you're a <strong>student</strong>, a <strong>data scientist</strong> or an <strong>AI researcher</strong>, Colab can make your work easier. Watch <a href=\"https://www.youtube.com/watch?v=inN8seMm7UI\">Introduction to Colab</a> to find out more, or just get started below!"
      ]
    },
    {
      "cell_type": "markdown",
      "metadata": {
        "id": "-Rh3-Vt9Nev9"
      },
      "source": [
        "<div class=\"markdown-google-sans\">\n",
        "\n",
        "## More resources\n",
        "\n",
        "### Working with notebooks in Colab\n",
        "\n",
        "</div>\n",
        "\n",
        "- [Overview of Colaboratory](/notebooks/basic_features_overview.ipynb)\n",
        "- [Guide to markdown](/notebooks/markdown_guide.ipynb)\n",
        "- [Importing libraries and installing dependencies](/notebooks/snippets/importing_libraries.ipynb)\n",
        "- [Saving and loading notebooks in GitHub](https://colab.research.google.com/github/googlecolab/colabtools/blob/main/notebooks/colab-github-demo.ipynb)\n",
        "- [Interactive forms](/notebooks/forms.ipynb)\n",
        "- [Interactive widgets](/notebooks/widgets.ipynb)\n",
        "\n",
        "<div class=\"markdown-google-sans\">\n",
        "\n",
        "<a name=\"working-with-data\"></a>\n",
        "### Working with data\n",
        "</div>\n",
        "\n",
        "- [Loading data: Drive, Sheets and Google Cloud Storage](/notebooks/io.ipynb)\n",
        "- [Charts: visualising data](/notebooks/charts.ipynb)\n",
        "- [Getting started with BigQuery](/notebooks/bigquery.ipynb)\n",
        "\n",
        "<div class=\"markdown-google-sans\">\n",
        "\n",
        "### Machine learning crash course\n",
        "\n",
        "<div>\n",
        "\n",
        "These are a few of the notebooks from Google's online machine learning course. See the <a href=\"https://developers.google.com/machine-learning/crash-course/\">full course website</a> for more.\n",
        "- [Intro to Pandas DataFrame](https://colab.research.google.com/github/google/eng-edu/blob/main/ml/cc/exercises/pandas_dataframe_ultraquick_tutorial.ipynb)\n",
        "- [Linear regression with tf.keras using synthetic data](https://colab.research.google.com/github/google/eng-edu/blob/main/ml/cc/exercises/linear_regression_with_synthetic_data.ipynb)\n",
        "\n",
        "<div class=\"markdown-google-sans\">\n",
        "\n",
        "<a name=\"using-accelerated-hardware\"></a>\n",
        "### Using accelerated hardware\n",
        "</div>\n",
        "\n",
        "- [TensorFlow with GPUs](/notebooks/gpu.ipynb)\n",
        "- [TensorFlow with TPUs](/notebooks/tpu.ipynb)"
      ]
    },
    {
      "cell_type": "markdown",
      "metadata": {
        "id": "P-H6Lw1vyNNd"
      },
      "source": [
        "<div class=\"markdown-google-sans\">\n",
        "\n",
        "<a name=\"machine-learning-examples\"></a>\n",
        "\n",
        "### Featured examples\n",
        "\n",
        "</div>\n",
        "\n",
        "- <a href=\"https://colab.research.google.com/github/NVIDIA/NeMo/blob/stable/tutorials/VoiceSwapSample.ipynb\">NeMo voice swap</a>: Use Nvidia NeMo conversational AI toolkit to swap a voice in an audio fragment with a computer-generated one.\n",
        "\n",
        "- <a href=\"https://tensorflow.org/hub/tutorials/tf2_image_retraining\">Retraining an Image Classifier</a>: Build a Keras model on top of a pre-trained image classifier to distinguish flowers.\n",
        "- <a href=\"https://tensorflow.org/hub/tutorials/tf2_text_classification\">Text Classification</a>: Classify IMDB film reviews as either <em>positive</em> or <em>negative</em>.\n",
        "- <a href=\"https://tensorflow.org/hub/tutorials/tf2_arbitrary_image_stylization\">Style Transfer</a>: Use deep learning to transfer style between images.\n",
        "- <a href=\"https://tensorflow.org/hub/tutorials/retrieval_with_tf_hub_universal_encoder_qa\">Multilingual Universal Sentence Encoder Q&amp;A</a>: Use a machine-learning model to answer questions from the SQuAD dataset.\n",
        "- <a href=\"https://tensorflow.org/hub/tutorials/tweening_conv3d\">Video Interpolation</a>: Predict what happened in a video between the first and the last frame.\n"
      ]
    }
  ],
  "metadata": {
    "colab": {
      "provenance": [],
      "include_colab_link": true
    },
    "kernelspec": {
      "display_name": "Python 3",
      "name": "python3"
    }
  },
  "nbformat": 4,
  "nbformat_minor": 0
}