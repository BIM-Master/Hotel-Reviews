{
  "cells": [
    {
      "cell_type": "markdown",
      "metadata": {
        "id": "view-in-github",
        "colab_type": "text"
      },
      "source": [
        "<a href=\"https://colab.research.google.com/github/BIM-Master/Hotel-Reviews/blob/Power-Distance/cleaning_power_distance_add.ipynb\" target=\"_parent\"><img src=\"https://colab.research.google.com/assets/colab-badge.svg\" alt=\"Open In Colab\"/></a>"
      ]
    },
    {
      "cell_type": "markdown",
      "metadata": {
        "id": "Wf5KrEb6vrkR"
      },
      "source": [
        "<div class=\"markdown-google-sans\">\n",
        "  <h1>Welcome to Colab!</h1>\n",
        "</div>\n",
        "\n",
        "<!-- TODO(b/319266067) remove temporary advert after a few weeks. -->\n",
        "<div class=\"markdown-google-sans\">\n",
        "  <h2>&#40;New&#41; Try the Gemini API</h2>\n",
        "  <ul>\n",
        "  <li><a href=\"https://makersuite.google.com/app/apikey\">Generate a Gemini API key</a></li>\n",
        "  <li><a href=\"https://colab.research.google.com/github/googlecolab/colabtools/blob/main/notebooks/Talk_to_Gemini_with_Google%27s_Speech_to_Text_API.ipynb?utm_medium=link&utm_campaign=gemini\">Talk to Gemini with the Speech-to-Text API</a></li>\n",
        "  <li><a href=\"https://colab.research.google.com/github/google/generative-ai-docs/blob/main/site/en/tutorials/quickstart_colab.ipynb?utm_medium=link&utm_campaign=gemini\">Gemini API: Quickstart with Python</a></li>\n",
        "  <li><a href=\"https://colab.research.google.com/notebooks/snippets/gemini.ipynb?utm_medium=link&utm_campaign=gemini\">Gemini API code sample</a></li>\n",
        "  <li><a href=\"https://colab.research.google.com/github/googlecolab/colabtools/blob/main/notebooks/Learning_with_Gemini_and_ChatGPT.ipynb?utm_medium=link&utm_campaign=gemini\">Compare Gemini with ChatGPT</a></li>  \n",
        "  <li><a href=\"https://colab.google/notebooks/?utm_medium=link&utm_campaign=gemini\">More notebooks</a></li>\n",
        "  </ul>\n",
        "</div>\n"
      ]
    },
    {
      "cell_type": "code",
      "source": [
        "import pandas as pd\n",
        "\n",
        "# Load CSV into DataFrame and a temp dataframe\n",
        "hotel_reviews = pd.read_csv('/content/Hotel_Reviews 2 (1).csv')\n",
        "temp = hotel_reviews\n",
        "power_distance_df = pd.read_csv('/content/power_distance_nationalities_final.csv', delimiter=';')\n"
      ],
      "metadata": {
        "id": "2_1sEnhj8BaI"
      },
      "execution_count": 93,
      "outputs": []
    },
    {
      "cell_type": "code",
      "source": [
        "columns_to_remove = [\"Hotel_Address\", \"Additional_Number_of_Scoring\", \"Days_since_review\", \"lat\", \"lng\"]\n",
        "#remove unnecessary columns from database of reviews\n",
        "hotel_reviews_new = temp.drop(columns=columns_to_remove, errors='ignore')"
      ],
      "metadata": {
        "id": "2vcIO7EwhD5M"
      },
      "execution_count": 94,
      "outputs": []
    },
    {
      "cell_type": "code",
      "source": [
        "# create new dataframe in which no duplicates exist\n",
        "hotel_reviews_clean = hotel_reviews_new.drop_duplicates()"
      ],
      "metadata": {
        "id": "tyVPCMnmoAUj"
      },
      "execution_count": 95,
      "outputs": []
    },
    {
      "cell_type": "code",
      "source": [
        "# string split the two relevant columns to ensure no unnecessary spaces at the start or end\n",
        "hotel_reviews_clean['Reviewer_Nationality'] = hotel_reviews_clean['Reviewer_Nationality'].str.strip()\n",
        "power_distance_df['Reviewer_Nationality'] = power_distance_df['Reviewer_Nationality'].str.strip()\n",
        "\n",
        "# After cleaning, use merge function to add power distance as a new column with the\n",
        "# corresponding pd value based on nationality and save it into a new data frame\n",
        "hotel_reviews_new_pd = hotel_reviews_clean.merge(power_distance_df, on='Reviewer_Nationality', how='left')\n"
      ],
      "metadata": {
        "colab": {
          "base_uri": "https://localhost:8080/"
        },
        "id": "Eat_3gqoYlPU",
        "outputId": "7a9cc1cc-5b0a-4887-9451-e1740f64812a"
      },
      "execution_count": 96,
      "outputs": [
        {
          "output_type": "stream",
          "name": "stderr",
          "text": [
            "<ipython-input-96-b69808ccd758>:2: SettingWithCopyWarning: \n",
            "A value is trying to be set on a copy of a slice from a DataFrame.\n",
            "Try using .loc[row_indexer,col_indexer] = value instead\n",
            "\n",
            "See the caveats in the documentation: https://pandas.pydata.org/pandas-docs/stable/user_guide/indexing.html#returning-a-view-versus-a-copy\n",
            "  hotel_reviews_clean['Reviewer_Nationality'] = hotel_reviews_clean['Reviewer_Nationality'].str.strip()\n"
          ]
        }
      ]
    },
    {
      "cell_type": "code",
      "source": [
        "'''\n",
        "#print unique power distance values\n",
        "unique_pd = hotel_reviews_new_pd['Power_Distance'].unique()\n",
        "print(\"Unique pd:\", unique_pd)\n",
        "\n",
        "############ continues, check for nan and print corresponding nationalities##############\n",
        "nan_power_distance = hotel_reviews_new_pd[hotel_reviews_new_pd['Power_Distance'].isna()]\n",
        "\n",
        "# Get distinct nationalities that have NaN in 'Power_Distance' (i.e the ones we need to add\n",
        "# to the pd dataframe in order to do a succesful and complete implementation of the pd variable)\n",
        "distinct_nationalities_with_nan = nan_power_distance['Reviewer_Nationality'].unique()\n",
        "\n",
        "# Print the distinct nationalities with NaN values in 'Power_Distance'\n",
        "print(\"NATIONALITIES WITH NAN VALUES:\")\n",
        "print(distinct_nationalities_with_nan)\n",
        "\n",
        "######## any values printed by the above function must be either removed due to a blank entry or\n",
        "######## that nationlity needs to be added to the list of nationalities in the pd dataframe"
      ],
      "metadata": {
        "colab": {
          "base_uri": "https://localhost:8080/"
        },
        "id": "9I25LudNBrNO",
        "outputId": "96038cbe-49c4-4bee-b3e0-6ebafce88b4c"
      },
      "execution_count": 66,
      "outputs": [
        {
          "output_type": "stream",
          "name": "stdout",
          "text": [
            "Unique pd: [ 93.  28.  38.  35.  22.  68.  65.  31.  50.  39.  40.  46.  13.  34.\n",
            "  77.  90. 104.  18.  49.  70.  33.  63.  57.  56.  80.  66.  92.  73.\n",
            "  95.  42.  71.  11.  69.  58.  30.  75.  60.  64.  74.  44.  54. 100.\n",
            "  86.  78.  94.  88.  61.  55.  85.  47.  81.  83.  67.  97.  45.  82.\n",
            "   0.]\n",
            "NATIONALITIES WITH NAN VALUES:\n",
            "[]\n"
          ]
        }
      ]
    },
    {
      "cell_type": "code",
      "source": [
        "hotel_reviews_new_pd = hotel_reviews_new_pd.dropna(subset=['Power_Distance'])"
      ],
      "metadata": {
        "id": "lgFFEXLGcteS"
      },
      "execution_count": 97,
      "outputs": []
    },
    {
      "cell_type": "code",
      "source": [
        "print(hotel_reviews_new_pd.info()); print(hotel_reviews_new_pd.describe(include='all'))\n"
      ],
      "metadata": {
        "id": "aheWeRPrpmiJ",
        "outputId": "c6e1a0d2-5bbc-4693-8a8a-2bc80e8ac60d",
        "colab": {
          "base_uri": "https://localhost:8080/"
        }
      },
      "execution_count": 98,
      "outputs": [
        {
          "output_type": "stream",
          "name": "stdout",
          "text": [
            "<class 'pandas.core.frame.DataFrame'>\n",
            "Index: 514690 entries, 0 to 515211\n",
            "Data columns (total 14 columns):\n",
            " #   Column                                      Non-Null Count   Dtype  \n",
            "---  ------                                      --------------   -----  \n",
            " 0   Review_Date                                 514690 non-null  object \n",
            " 1   Average_Score                               514690 non-null  float64\n",
            " 2   Hotel_Name                                  514690 non-null  object \n",
            " 3   Reviewer_Nationality                        514690 non-null  object \n",
            " 4   Negative_Review                             514690 non-null  object \n",
            " 5   Review_Total_Negative_Word_Counts           514690 non-null  int64  \n",
            " 6   Total_Number_of_Reviews                     514690 non-null  int64  \n",
            " 7   Positive_Review                             514690 non-null  object \n",
            " 8   Review_Total_Positive_Word_Counts           514690 non-null  int64  \n",
            " 9   Total_Number_of_Reviews_Reviewer_Has_Given  514690 non-null  int64  \n",
            " 10  Reviewer_Score                              514690 non-null  float64\n",
            " 11  Tags                                        514690 non-null  object \n",
            " 12  days_since_review                           514690 non-null  object \n",
            " 13  Power_Distance                              514690 non-null  float64\n",
            "dtypes: float64(3), int64(4), object(7)\n",
            "memory usage: 58.9+ MB\n",
            "None\n",
            "       Review_Date  Average_Score                                  Hotel_Name  \\\n",
            "count       514690  514690.000000                                      514690   \n",
            "unique         731            NaN                                        1492   \n",
            "top       8/2/2017            NaN  Britannia International Hotel Canary Wharf   \n",
            "freq          2581            NaN                                        4786   \n",
            "mean           NaN       8.397835                                         NaN   \n",
            "std            NaN       0.547931                                         NaN   \n",
            "min            NaN       5.200000                                         NaN   \n",
            "25%            NaN       8.100000                                         NaN   \n",
            "50%            NaN       8.400000                                         NaN   \n",
            "75%            NaN       8.800000                                         NaN   \n",
            "max            NaN       9.800000                                         NaN   \n",
            "\n",
            "       Reviewer_Nationality Negative_Review  \\\n",
            "count                514690          514690   \n",
            "unique                  226          329659   \n",
            "top          United Kingdom     No Negative   \n",
            "freq                 245110          127633   \n",
            "mean                    NaN             NaN   \n",
            "std                     NaN             NaN   \n",
            "min                     NaN             NaN   \n",
            "25%                     NaN             NaN   \n",
            "50%                     NaN             NaN   \n",
            "75%                     NaN             NaN   \n",
            "max                     NaN             NaN   \n",
            "\n",
            "        Review_Total_Negative_Word_Counts  Total_Number_of_Reviews  \\\n",
            "count                       514690.000000            514690.000000   \n",
            "unique                                NaN                      NaN   \n",
            "top                                   NaN                      NaN   \n",
            "freq                                  NaN                      NaN   \n",
            "mean                            18.540838              2744.578575   \n",
            "std                             29.694889              2317.857771   \n",
            "min                              0.000000                43.000000   \n",
            "25%                              2.000000              1161.000000   \n",
            "50%                              9.000000              2134.000000   \n",
            "75%                             23.000000              3633.000000   \n",
            "max                            408.000000             16670.000000   \n",
            "\n",
            "       Positive_Review  Review_Total_Positive_Word_Counts  \\\n",
            "count           514690                      514690.000000   \n",
            "unique          412240                                NaN   \n",
            "top        No Positive                                NaN   \n",
            "freq             35835                                NaN   \n",
            "mean               NaN                          17.783153   \n",
            "std                NaN                          21.807337   \n",
            "min                NaN                           0.000000   \n",
            "25%                NaN                           5.000000   \n",
            "50%                NaN                          11.000000   \n",
            "75%                NaN                          22.000000   \n",
            "max                NaN                         395.000000   \n",
            "\n",
            "        Total_Number_of_Reviews_Reviewer_Has_Given  Reviewer_Score  \\\n",
            "count                                514690.000000   514690.000000   \n",
            "unique                                         NaN             NaN   \n",
            "top                                            NaN             NaN   \n",
            "freq                                           NaN             NaN   \n",
            "mean                                      7.169121        8.395924   \n",
            "std                                      11.043065        1.637299   \n",
            "min                                       1.000000        2.500000   \n",
            "25%                                       1.000000        7.500000   \n",
            "50%                                       3.000000        8.800000   \n",
            "75%                                       8.000000        9.600000   \n",
            "max                                     355.000000       10.000000   \n",
            "\n",
            "                                                     Tags days_since_review  \\\n",
            "count                                              514690            514690   \n",
            "unique                                              55210               731   \n",
            "top     [' Leisure trip ', ' Couple ', ' Double Room '...            1 days   \n",
            "freq                                                 5100              2581   \n",
            "mean                                                  NaN               NaN   \n",
            "std                                                   NaN               NaN   \n",
            "min                                                   NaN               NaN   \n",
            "25%                                                   NaN               NaN   \n",
            "50%                                                   NaN               NaN   \n",
            "75%                                                   NaN               NaN   \n",
            "max                                                   NaN               NaN   \n",
            "\n",
            "        Power_Distance  \n",
            "count    514690.000000  \n",
            "unique             NaN  \n",
            "top                NaN  \n",
            "freq               NaN  \n",
            "mean         45.126288  \n",
            "std          19.413205  \n",
            "min           0.000000  \n",
            "25%          35.000000  \n",
            "50%          35.000000  \n",
            "75%          50.000000  \n",
            "max         104.000000  \n"
          ]
        }
      ]
    },
    {
      "cell_type": "code",
      "source": [],
      "metadata": {
        "id": "lB4_Uf3wqRXj"
      },
      "execution_count": null,
      "outputs": []
    }
  ],
  "metadata": {
    "colab": {
      "provenance": [],
      "include_colab_link": true
    },
    "kernelspec": {
      "display_name": "Python 3",
      "name": "python3"
    }
  },
  "nbformat": 4,
  "nbformat_minor": 0
}