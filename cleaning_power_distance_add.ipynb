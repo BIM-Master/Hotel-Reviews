{
  "cells": [
    {
      "cell_type": "markdown",
      "metadata": {
        "id": "view-in-github",
        "colab_type": "text"
      },
      "source": [
        "<a href=\"https://colab.research.google.com/github/BIM-Master/Hotel-Reviews/blob/Power-Distance/cleaning_power_distance_add.ipynb\" target=\"_parent\"><img src=\"https://colab.research.google.com/assets/colab-badge.svg\" alt=\"Open In Colab\"/></a>"
      ]
    },
    {
      "cell_type": "markdown",
      "metadata": {
        "id": "Wf5KrEb6vrkR"
      },
      "source": [
        "<div class=\"markdown-google-sans\">\n",
        "  <h1>Welcome to Colab!</h1>\n",
        "</div>\n",
        "\n",
        "<!-- TODO(b/319266067) remove temporary advert after a few weeks. -->\n",
        "<div class=\"markdown-google-sans\">\n",
        "  <h2>&#40;New&#41; Try the Gemini API</h2>\n",
        "  <ul>\n",
        "  <li><a href=\"https://makersuite.google.com/app/apikey\">Generate a Gemini API key</a></li>\n",
        "  <li><a href=\"https://colab.research.google.com/github/googlecolab/colabtools/blob/main/notebooks/Talk_to_Gemini_with_Google%27s_Speech_to_Text_API.ipynb?utm_medium=link&utm_campaign=gemini\">Talk to Gemini with the Speech-to-Text API</a></li>\n",
        "  <li><a href=\"https://colab.research.google.com/github/google/generative-ai-docs/blob/main/site/en/tutorials/quickstart_colab.ipynb?utm_medium=link&utm_campaign=gemini\">Gemini API: Quickstart with Python</a></li>\n",
        "  <li><a href=\"https://colab.research.google.com/notebooks/snippets/gemini.ipynb?utm_medium=link&utm_campaign=gemini\">Gemini API code sample</a></li>\n",
        "  <li><a href=\"https://colab.research.google.com/github/googlecolab/colabtools/blob/main/notebooks/Learning_with_Gemini_and_ChatGPT.ipynb?utm_medium=link&utm_campaign=gemini\">Compare Gemini with ChatGPT</a></li>  \n",
        "  <li><a href=\"https://colab.google/notebooks/?utm_medium=link&utm_campaign=gemini\">More notebooks</a></li>\n",
        "  </ul>\n",
        "</div>\n"
      ]
    },
    {
      "cell_type": "code",
      "source": [
        "import pandas as pd\n",
        "\n",
        "# Load CSV into DataFrame and a temp dataframe\n",
        "hotel_reviews = pd.read_csv('/content/Hotel_Reviews 2 (1).csv')\n",
        "temp = hotel_reviews\n",
        "power_distance_df = pd.read_csv('/content/power_distance_nationalities3.csv', delimiter=';')\n"
      ],
      "metadata": {
        "id": "2_1sEnhj8BaI"
      },
      "execution_count": 32,
      "outputs": []
    },
    {
      "cell_type": "code",
      "source": [
        "columns_to_remove = [\"Hotel_Address\", \"Additional_Number_of_Scoring\", \"Days_since_review\", \"lat\", \"lng\"]\n",
        "#remove unnecessary columns from database of reviews\n",
        "hotel_reviews_new = temp.drop(columns=columns_to_remove, errors='ignore')"
      ],
      "metadata": {
        "id": "2vcIO7EwhD5M"
      },
      "execution_count": 33,
      "outputs": []
    },
    {
      "cell_type": "code",
      "source": [
        "# string split the two relevant columns to ensure no unnecessary spaces at the start or end\n",
        "hotel_reviews_new['Reviewer_Nationality'] = hotel_reviews_new['Reviewer_Nationality'].str.strip()\n",
        "power_distance_df['Reviewer_Nationality'] = power_distance_df['Reviewer_Nationality'].str.strip()\n",
        "\n",
        "# After cleaning, use merge function to add power distance as a new column with the\n",
        "# corresponding pd value based on nationality\n",
        "hotel_reviews_new_pd = hotel_reviews_new.merge(power_distance_df, on='Reviewer_Nationality', how='left')\n",
        "print(hotel_reviews_new_pd.head())"
      ],
      "metadata": {
        "colab": {
          "base_uri": "https://localhost:8080/"
        },
        "id": "Eat_3gqoYlPU",
        "outputId": "2c247096-60bd-4374-df49-9fe10d819086"
      },
      "execution_count": 34,
      "outputs": [
        {
          "output_type": "stream",
          "name": "stdout",
          "text": [
            "  Review_Date  Average_Score   Hotel_Name Reviewer_Nationality  \\\n",
            "0    8/3/2017            7.7  Hotel Arena               Russia   \n",
            "1    8/3/2017            7.7  Hotel Arena              Ireland   \n",
            "2   7/31/2017            7.7  Hotel Arena            Australia   \n",
            "3   7/31/2017            7.7  Hotel Arena       United Kingdom   \n",
            "4   7/24/2017            7.7  Hotel Arena          New Zealand   \n",
            "\n",
            "                                     Negative_Review  \\\n",
            "0   I am so angry that i made this post available...   \n",
            "1                                        No Negative   \n",
            "2   Rooms are nice but for elderly a bit difficul...   \n",
            "3   My room was dirty and I was afraid to walk ba...   \n",
            "4   You When I booked with your company on line y...   \n",
            "\n",
            "   Review_Total_Negative_Word_Counts  Total_Number_of_Reviews  \\\n",
            "0                                397                     1403   \n",
            "1                                  0                     1403   \n",
            "2                                 42                     1403   \n",
            "3                                210                     1403   \n",
            "4                                140                     1403   \n",
            "\n",
            "                                     Positive_Review  \\\n",
            "0   Only the park outside of the hotel was beauti...   \n",
            "1   No real complaints the hotel was great great ...   \n",
            "2   Location was good and staff were ok It is cut...   \n",
            "3   Great location in nice surroundings the bar a...   \n",
            "4    Amazing location and building Romantic setting    \n",
            "\n",
            "   Review_Total_Positive_Word_Counts  \\\n",
            "0                                 11   \n",
            "1                                105   \n",
            "2                                 21   \n",
            "3                                 26   \n",
            "4                                  8   \n",
            "\n",
            "   Total_Number_of_Reviews_Reviewer_Has_Given  Reviewer_Score  \\\n",
            "0                                           7             2.9   \n",
            "1                                           7             7.5   \n",
            "2                                           9             7.1   \n",
            "3                                           1             3.8   \n",
            "4                                           3             6.7   \n",
            "\n",
            "                                                Tags days_since_review  \\\n",
            "0  [' Leisure trip ', ' Couple ', ' Duplex Double...            0 days   \n",
            "1  [' Leisure trip ', ' Couple ', ' Duplex Double...            0 days   \n",
            "2  [' Leisure trip ', ' Family with young childre...            3 days   \n",
            "3  [' Leisure trip ', ' Solo traveler ', ' Duplex...            3 days   \n",
            "4  [' Leisure trip ', ' Couple ', ' Suite ', ' St...           10 days   \n",
            "\n",
            "  Power_Distance  \n",
            "0             93  \n",
            "1             28  \n",
            "2             38  \n",
            "3             35  \n",
            "4             22  \n"
          ]
        }
      ]
    },
    {
      "cell_type": "code",
      "source": [
        "#print unique power distance values\n",
        "unique_pd = hotel_reviews_new_pd['Power_Distance'].unique()\n",
        "print(\"Unique pd:\", unique_pd)\n",
        "\n",
        "############ continues, check for nan and print corresponding nationalities##############\n",
        "nan_power_distance = hotel_reviews_new_pd[hotel_reviews_new_pd['Power_Distance'].isna()]\n",
        "\n",
        "# Get distinct nationalities that have NaN in 'Power_Distance' (i.e the ones we need to add\n",
        "# to the pd dataframe in order to do a succesful and complete implementation of the pd variable)\n",
        "distinct_nationalities_with_nan = nan_power_distance['Reviewer_Nationality'].unique()\n",
        "\n",
        "# Print the distinct nationalities with NaN values in 'Power_Distance'\n",
        "print(\"NATIONALITIES WITH NAN VALUES:\")\n",
        "print(distinct_nationalities_with_nan)\n",
        "\n",
        "######## any values printed by the above function must be either removed due to a blank entry or\n",
        "######## that nationlity needs to be added to the list of nationalities in the pd dataframe"
      ],
      "metadata": {
        "colab": {
          "base_uri": "https://localhost:8080/"
        },
        "id": "9I25LudNBrNO",
        "outputId": "cf91ff3f-f209-4045-abb9-ffbe227118ab"
      },
      "execution_count": 35,
      "outputs": [
        {
          "output_type": "stream",
          "name": "stdout",
          "text": [
            "Unique pd: ['93' '28' '38' '35' '22' '68' '65' '31' '50' '39' '40' '46' '13' '34'\n",
            " '77' '90' '104' '18' '49' '70' '33' '63' '57' '56' '80' '66' '92' '73'\n",
            " '95' '42' '71' '11' '69' '58' '30' '75' '60' '64' '74' '35,00' '44' '54'\n",
            " '100' '86' '78' '94' '88' '61' '55' '85' nan '47' '81' '83' '67' '97'\n",
            " '45' '82' '0' '39,00' '65,00']\n",
            "NATIONALITIES WITH NAN VALUES:\n",
            "['']\n"
          ]
        }
      ]
    },
    {
      "cell_type": "code",
      "source": [
        "print(hotel_reviews_new.info()); print(hotel_reviews_new.describe(include='all'))\n",
        "print(hotel_reviews_new_pd.info()); print(hotel_reviews_new.describe(include='all'))\n",
        "\n"
      ],
      "metadata": {
        "id": "UvwAl9zFdyHn",
        "outputId": "aca3ce36-f662-4660-8592-032bae6b001a",
        "colab": {
          "base_uri": "https://localhost:8080/"
        }
      },
      "execution_count": 39,
      "outputs": [
        {
          "output_type": "stream",
          "name": "stdout",
          "text": [
            "<class 'pandas.core.frame.DataFrame'>\n",
            "RangeIndex: 515738 entries, 0 to 515737\n",
            "Data columns (total 13 columns):\n",
            " #   Column                                      Non-Null Count   Dtype  \n",
            "---  ------                                      --------------   -----  \n",
            " 0   Review_Date                                 515738 non-null  object \n",
            " 1   Average_Score                               515738 non-null  float64\n",
            " 2   Hotel_Name                                  515738 non-null  object \n",
            " 3   Reviewer_Nationality                        515738 non-null  object \n",
            " 4   Negative_Review                             515738 non-null  object \n",
            " 5   Review_Total_Negative_Word_Counts           515738 non-null  int64  \n",
            " 6   Total_Number_of_Reviews                     515738 non-null  int64  \n",
            " 7   Positive_Review                             515738 non-null  object \n",
            " 8   Review_Total_Positive_Word_Counts           515738 non-null  int64  \n",
            " 9   Total_Number_of_Reviews_Reviewer_Has_Given  515738 non-null  int64  \n",
            " 10  Reviewer_Score                              515738 non-null  float64\n",
            " 11  Tags                                        515738 non-null  object \n",
            " 12  days_since_review                           515738 non-null  object \n",
            "dtypes: float64(2), int64(4), object(7)\n",
            "memory usage: 51.2+ MB\n",
            "None\n",
            "       Review_Date  Average_Score                                  Hotel_Name  \\\n",
            "count       515738  515738.000000                                      515738   \n",
            "unique         731            NaN                                        1492   \n",
            "top       8/2/2017            NaN  Britannia International Hotel Canary Wharf   \n",
            "freq          2585            NaN                                        4789   \n",
            "mean           NaN       8.397487                                         NaN   \n",
            "std            NaN       0.548048                                         NaN   \n",
            "min            NaN       5.200000                                         NaN   \n",
            "25%            NaN       8.100000                                         NaN   \n",
            "50%            NaN       8.400000                                         NaN   \n",
            "75%            NaN       8.800000                                         NaN   \n",
            "max            NaN       9.800000                                         NaN   \n",
            "\n",
            "       Reviewer_Nationality Negative_Review  \\\n",
            "count                515738          515738   \n",
            "unique                  227          330011   \n",
            "top          United Kingdom     No Negative   \n",
            "freq                 245246          127890   \n",
            "mean                    NaN             NaN   \n",
            "std                     NaN             NaN   \n",
            "min                     NaN             NaN   \n",
            "25%                     NaN             NaN   \n",
            "50%                     NaN             NaN   \n",
            "75%                     NaN             NaN   \n",
            "max                     NaN             NaN   \n",
            "\n",
            "        Review_Total_Negative_Word_Counts  Total_Number_of_Reviews  \\\n",
            "count                       515738.000000            515738.000000   \n",
            "unique                                NaN                      NaN   \n",
            "top                                   NaN                      NaN   \n",
            "freq                                  NaN                      NaN   \n",
            "mean                            18.539450              2743.743944   \n",
            "std                             29.690831              2317.464868   \n",
            "min                              0.000000                43.000000   \n",
            "25%                              2.000000              1161.000000   \n",
            "50%                              9.000000              2134.000000   \n",
            "75%                             23.000000              3613.000000   \n",
            "max                            408.000000             16670.000000   \n",
            "\n",
            "       Positive_Review  Review_Total_Positive_Word_Counts  \\\n",
            "count           515738                      515738.000000   \n",
            "unique          412601                                NaN   \n",
            "top        No Positive                                NaN   \n",
            "freq             35946                                NaN   \n",
            "mean               NaN                          17.776458   \n",
            "std                NaN                          21.804185   \n",
            "min                NaN                           0.000000   \n",
            "25%                NaN                           5.000000   \n",
            "50%                NaN                          11.000000   \n",
            "75%                NaN                          22.000000   \n",
            "max                NaN                         395.000000   \n",
            "\n",
            "        Total_Number_of_Reviews_Reviewer_Has_Given  Reviewer_Score  \\\n",
            "count                                515738.000000   515738.000000   \n",
            "unique                                         NaN             NaN   \n",
            "top                                            NaN             NaN   \n",
            "freq                                           NaN             NaN   \n",
            "mean                                      7.166001        8.395077   \n",
            "std                                      11.040228        1.637856   \n",
            "min                                       1.000000        2.500000   \n",
            "25%                                       1.000000        7.500000   \n",
            "50%                                       3.000000        8.800000   \n",
            "75%                                       8.000000        9.600000   \n",
            "max                                     355.000000       10.000000   \n",
            "\n",
            "                                                     Tags days_since_review  \n",
            "count                                              515738            515738  \n",
            "unique                                              55242               731  \n",
            "top     [' Leisure trip ', ' Couple ', ' Double Room '...            1 days  \n",
            "freq                                                 5101              2585  \n",
            "mean                                                  NaN               NaN  \n",
            "std                                                   NaN               NaN  \n",
            "min                                                   NaN               NaN  \n",
            "25%                                                   NaN               NaN  \n",
            "50%                                                   NaN               NaN  \n",
            "75%                                                   NaN               NaN  \n",
            "max                                                   NaN               NaN  \n",
            "<class 'pandas.core.frame.DataFrame'>\n",
            "Index: 515223 entries, 0 to 515745\n",
            "Data columns (total 14 columns):\n",
            " #   Column                                      Non-Null Count   Dtype  \n",
            "---  ------                                      --------------   -----  \n",
            " 0   Review_Date                                 515223 non-null  object \n",
            " 1   Average_Score                               515223 non-null  float64\n",
            " 2   Hotel_Name                                  515223 non-null  object \n",
            " 3   Reviewer_Nationality                        515223 non-null  object \n",
            " 4   Negative_Review                             515223 non-null  object \n",
            " 5   Review_Total_Negative_Word_Counts           515223 non-null  int64  \n",
            " 6   Total_Number_of_Reviews                     515223 non-null  int64  \n",
            " 7   Positive_Review                             515223 non-null  object \n",
            " 8   Review_Total_Positive_Word_Counts           515223 non-null  int64  \n",
            " 9   Total_Number_of_Reviews_Reviewer_Has_Given  515223 non-null  int64  \n",
            " 10  Reviewer_Score                              515223 non-null  float64\n",
            " 11  Tags                                        515223 non-null  object \n",
            " 12  days_since_review                           515223 non-null  object \n",
            " 13  Power_Distance                              515223 non-null  object \n",
            "dtypes: float64(2), int64(4), object(8)\n",
            "memory usage: 59.0+ MB\n",
            "None\n",
            "       Review_Date  Average_Score                                  Hotel_Name  \\\n",
            "count       515738  515738.000000                                      515738   \n",
            "unique         731            NaN                                        1492   \n",
            "top       8/2/2017            NaN  Britannia International Hotel Canary Wharf   \n",
            "freq          2585            NaN                                        4789   \n",
            "mean           NaN       8.397487                                         NaN   \n",
            "std            NaN       0.548048                                         NaN   \n",
            "min            NaN       5.200000                                         NaN   \n",
            "25%            NaN       8.100000                                         NaN   \n",
            "50%            NaN       8.400000                                         NaN   \n",
            "75%            NaN       8.800000                                         NaN   \n",
            "max            NaN       9.800000                                         NaN   \n",
            "\n",
            "       Reviewer_Nationality Negative_Review  \\\n",
            "count                515738          515738   \n",
            "unique                  227          330011   \n",
            "top          United Kingdom     No Negative   \n",
            "freq                 245246          127890   \n",
            "mean                    NaN             NaN   \n",
            "std                     NaN             NaN   \n",
            "min                     NaN             NaN   \n",
            "25%                     NaN             NaN   \n",
            "50%                     NaN             NaN   \n",
            "75%                     NaN             NaN   \n",
            "max                     NaN             NaN   \n",
            "\n",
            "        Review_Total_Negative_Word_Counts  Total_Number_of_Reviews  \\\n",
            "count                       515738.000000            515738.000000   \n",
            "unique                                NaN                      NaN   \n",
            "top                                   NaN                      NaN   \n",
            "freq                                  NaN                      NaN   \n",
            "mean                            18.539450              2743.743944   \n",
            "std                             29.690831              2317.464868   \n",
            "min                              0.000000                43.000000   \n",
            "25%                              2.000000              1161.000000   \n",
            "50%                              9.000000              2134.000000   \n",
            "75%                             23.000000              3613.000000   \n",
            "max                            408.000000             16670.000000   \n",
            "\n",
            "       Positive_Review  Review_Total_Positive_Word_Counts  \\\n",
            "count           515738                      515738.000000   \n",
            "unique          412601                                NaN   \n",
            "top        No Positive                                NaN   \n",
            "freq             35946                                NaN   \n",
            "mean               NaN                          17.776458   \n",
            "std                NaN                          21.804185   \n",
            "min                NaN                           0.000000   \n",
            "25%                NaN                           5.000000   \n",
            "50%                NaN                          11.000000   \n",
            "75%                NaN                          22.000000   \n",
            "max                NaN                         395.000000   \n",
            "\n",
            "        Total_Number_of_Reviews_Reviewer_Has_Given  Reviewer_Score  \\\n",
            "count                                515738.000000   515738.000000   \n",
            "unique                                         NaN             NaN   \n",
            "top                                            NaN             NaN   \n",
            "freq                                           NaN             NaN   \n",
            "mean                                      7.166001        8.395077   \n",
            "std                                      11.040228        1.637856   \n",
            "min                                       1.000000        2.500000   \n",
            "25%                                       1.000000        7.500000   \n",
            "50%                                       3.000000        8.800000   \n",
            "75%                                       8.000000        9.600000   \n",
            "max                                     355.000000       10.000000   \n",
            "\n",
            "                                                     Tags days_since_review  \n",
            "count                                              515738            515738  \n",
            "unique                                              55242               731  \n",
            "top     [' Leisure trip ', ' Couple ', ' Double Room '...            1 days  \n",
            "freq                                                 5101              2585  \n",
            "mean                                                  NaN               NaN  \n",
            "std                                                   NaN               NaN  \n",
            "min                                                   NaN               NaN  \n",
            "25%                                                   NaN               NaN  \n",
            "50%                                                   NaN               NaN  \n",
            "75%                                                   NaN               NaN  \n",
            "max                                                   NaN               NaN  \n"
          ]
        }
      ]
    },
    {
      "cell_type": "code",
      "source": [
        "hotel_reviews_new_pd = hotel_reviews_new_pd.dropna(subset=['Power_Distance'])"
      ],
      "metadata": {
        "id": "lgFFEXLGcteS"
      },
      "execution_count": 38,
      "outputs": []
    },
    {
      "cell_type": "code",
      "source": [
        "empty_count = hotel_reviews_new_pd['Power_Distance'].isna().sum()\n",
        "print(empty_count)"
      ],
      "metadata": {
        "id": "j024VYVubjW3",
        "outputId": "3ba0216d-077f-43e2-b36a-67d3b57aa483",
        "colab": {
          "base_uri": "https://localhost:8080/"
        }
      },
      "execution_count": 37,
      "outputs": [
        {
          "output_type": "stream",
          "name": "stdout",
          "text": [
            "523\n"
          ]
        }
      ]
    },
    {
      "cell_type": "markdown",
      "metadata": {
        "id": "5fCEDCU_qrC0"
      },
      "source": [
        "<div class=\"markdown-google-sans\">\n",
        "  <h2>What is Colab?</h2>\n",
        "</div>\n",
        "\n",
        "Colab, or ‘Colaboratory’, allows you to write and execute Python in your browser, with\n",
        "- Zero configuration required\n",
        "- Access to GPUs free of charge\n",
        "- Easy sharing\n",
        "\n",
        "Whether you're a <strong>student</strong>, a <strong>data scientist</strong> or an <strong>AI researcher</strong>, Colab can make your work easier. Watch <a href=\"https://www.youtube.com/watch?v=inN8seMm7UI\">Introduction to Colab</a> to find out more, or just get started below!"
      ]
    },
    {
      "cell_type": "markdown",
      "metadata": {
        "id": "-Rh3-Vt9Nev9"
      },
      "source": [
        "<div class=\"markdown-google-sans\">\n",
        "\n",
        "## More resources\n",
        "\n",
        "### Working with notebooks in Colab\n",
        "\n",
        "</div>\n",
        "\n",
        "- [Overview of Colaboratory](/notebooks/basic_features_overview.ipynb)\n",
        "- [Guide to markdown](/notebooks/markdown_guide.ipynb)\n",
        "- [Importing libraries and installing dependencies](/notebooks/snippets/importing_libraries.ipynb)\n",
        "- [Saving and loading notebooks in GitHub](https://colab.research.google.com/github/googlecolab/colabtools/blob/main/notebooks/colab-github-demo.ipynb)\n",
        "- [Interactive forms](/notebooks/forms.ipynb)\n",
        "- [Interactive widgets](/notebooks/widgets.ipynb)\n",
        "\n",
        "<div class=\"markdown-google-sans\">\n",
        "\n",
        "<a name=\"working-with-data\"></a>\n",
        "### Working with data\n",
        "</div>\n",
        "\n",
        "- [Loading data: Drive, Sheets and Google Cloud Storage](/notebooks/io.ipynb)\n",
        "- [Charts: visualising data](/notebooks/charts.ipynb)\n",
        "- [Getting started with BigQuery](/notebooks/bigquery.ipynb)\n",
        "\n",
        "<div class=\"markdown-google-sans\">\n",
        "\n",
        "### Machine learning crash course\n",
        "\n",
        "<div>\n",
        "\n",
        "These are a few of the notebooks from Google's online machine learning course. See the <a href=\"https://developers.google.com/machine-learning/crash-course/\">full course website</a> for more.\n",
        "- [Intro to Pandas DataFrame](https://colab.research.google.com/github/google/eng-edu/blob/main/ml/cc/exercises/pandas_dataframe_ultraquick_tutorial.ipynb)\n",
        "- [Linear regression with tf.keras using synthetic data](https://colab.research.google.com/github/google/eng-edu/blob/main/ml/cc/exercises/linear_regression_with_synthetic_data.ipynb)\n",
        "\n",
        "<div class=\"markdown-google-sans\">\n",
        "\n",
        "<a name=\"using-accelerated-hardware\"></a>\n",
        "### Using accelerated hardware\n",
        "</div>\n",
        "\n",
        "- [TensorFlow with GPUs](/notebooks/gpu.ipynb)\n",
        "- [TensorFlow with TPUs](/notebooks/tpu.ipynb)"
      ]
    },
    {
      "cell_type": "markdown",
      "metadata": {
        "id": "P-H6Lw1vyNNd"
      },
      "source": [
        "<div class=\"markdown-google-sans\">\n",
        "\n",
        "<a name=\"machine-learning-examples\"></a>\n",
        "\n",
        "### Featured examples\n",
        "\n",
        "</div>\n",
        "\n",
        "- <a href=\"https://colab.research.google.com/github/NVIDIA/NeMo/blob/stable/tutorials/VoiceSwapSample.ipynb\">NeMo voice swap</a>: Use Nvidia NeMo conversational AI toolkit to swap a voice in an audio fragment with a computer-generated one.\n",
        "\n",
        "- <a href=\"https://tensorflow.org/hub/tutorials/tf2_image_retraining\">Retraining an Image Classifier</a>: Build a Keras model on top of a pre-trained image classifier to distinguish flowers.\n",
        "- <a href=\"https://tensorflow.org/hub/tutorials/tf2_text_classification\">Text Classification</a>: Classify IMDB film reviews as either <em>positive</em> or <em>negative</em>.\n",
        "- <a href=\"https://tensorflow.org/hub/tutorials/tf2_arbitrary_image_stylization\">Style Transfer</a>: Use deep learning to transfer style between images.\n",
        "- <a href=\"https://tensorflow.org/hub/tutorials/retrieval_with_tf_hub_universal_encoder_qa\">Multilingual Universal Sentence Encoder Q&amp;A</a>: Use a machine-learning model to answer questions from the SQuAD dataset.\n",
        "- <a href=\"https://tensorflow.org/hub/tutorials/tweening_conv3d\">Video Interpolation</a>: Predict what happened in a video between the first and the last frame.\n"
      ]
    }
  ],
  "metadata": {
    "colab": {
      "provenance": [],
      "include_colab_link": true
    },
    "kernelspec": {
      "display_name": "Python 3",
      "name": "python3"
    }
  },
  "nbformat": 4,
  "nbformat_minor": 0
}