{
  "nbformat": 4,
  "nbformat_minor": 0,
  "metadata": {
    "colab": {
      "provenance": [],
      "authorship_tag": "ABX9TyMNvE/hXFwXoBZs8s/CXLcm",
      "include_colab_link": true
    },
    "kernelspec": {
      "name": "python3",
      "display_name": "Python 3"
    },
    "language_info": {
      "name": "python"
    }
  },
  "cells": [
    {
      "cell_type": "markdown",
      "metadata": {
        "id": "view-in-github",
        "colab_type": "text"
      },
      "source": [
        "<a href=\"https://colab.research.google.com/github/BIM-Master/Hotel-Reviews/blob/main/Hotel_reviews.ipynb\" target=\"_parent\"><img src=\"https://colab.research.google.com/assets/colab-badge.svg\" alt=\"Open In Colab\"/></a>"
      ]
    },
    {
      "cell_type": "code",
      "execution_count": null,
      "metadata": {
        "id": "WTr2rCkGyLYT"
      },
      "outputs": [],
      "source": [
        "pip install pandas"
      ]
    },
    {
      "cell_type": "code",
      "source": [
        "pip install nltk"
      ],
      "metadata": {
        "id": "5UYs3UdhDDeQ"
      },
      "execution_count": null,
      "outputs": []
    },
    {
      "cell_type": "code",
      "source": [
        "import nltk"
      ],
      "metadata": {
        "id": "duNp_eaGDijy"
      },
      "execution_count": 36,
      "outputs": []
    },
    {
      "cell_type": "code",
      "source": [
        "from nltk.tokenize import word_tokenize"
      ],
      "metadata": {
        "id": "vx2G5uXlDHJl"
      },
      "execution_count": 31,
      "outputs": []
    },
    {
      "cell_type": "code",
      "source": [
        "import pandas as pd"
      ],
      "metadata": {
        "id": "vHyQwzZCyoKV"
      },
      "execution_count": 10,
      "outputs": []
    },
    {
      "cell_type": "code",
      "source": [
        "Hotel_df = pd.read_csv(\"/content/Hotel_Reviews 2.csv\")"
      ],
      "metadata": {
        "id": "R2vENVgdzS0Y"
      },
      "execution_count": 26,
      "outputs": []
    },
    {
      "cell_type": "code",
      "source": [
        "Hotel_df"
      ],
      "metadata": {
        "id": "GsIbZbR4zS4r"
      },
      "execution_count": null,
      "outputs": []
    },
    {
      "cell_type": "code",
      "source": [
        "nltk.download('punkt')"
      ],
      "metadata": {
        "id": "6-VhKri-zS-b"
      },
      "execution_count": null,
      "outputs": []
    },
    {
      "cell_type": "code",
      "source": [
        "Hotel_df['Negative_Review_tokenized'] = Hotel_df['Negative_Review'].apply(lambda x: word_tokenize(x))\n",
        "Hotel_df['Positive_Review_tokenized'] = Hotel_df['Positive_Review'].apply(lambda x: word_tokenize(x))\n"
      ],
      "metadata": {
        "id": "01LafAgBzTBi"
      },
      "execution_count": 38,
      "outputs": []
    },
    {
      "cell_type": "code",
      "source": [
        "Hotel_df"
      ],
      "metadata": {
        "id": "VYsHj0nzzTDp"
      },
      "execution_count": null,
      "outputs": []
    },
    {
      "cell_type": "code",
      "source": [
        "nltk.download('stopwords')"
      ],
      "metadata": {
        "id": "K1wJW1y_zTF-"
      },
      "execution_count": null,
      "outputs": []
    },
    {
      "cell_type": "code",
      "source": [
        "from nltk.corpus import stopwords"
      ],
      "metadata": {
        "id": "6XP0RV-DIAn0"
      },
      "execution_count": 41,
      "outputs": []
    },
    {
      "cell_type": "code",
      "source": [
        "def remove_stop_words(tokens):\n",
        "    stop_words = set(stopwords.words('english'))\n",
        "    filtered_tokens = [token for token in tokens if token.lower() not in stop_words]\n",
        "    return filtered_tokens"
      ],
      "metadata": {
        "id": "bvYbX25SIAx9"
      },
      "execution_count": 42,
      "outputs": []
    },
    {
      "cell_type": "markdown",
      "source": [
        "Figure out a way to make sure that \"No\" and \"Not\" are not removed during stop words removal, so that we dont lose out on context like in Row 2 positive Review, where \"No real complaints\" turned into [\"Real\",\"Complaints\"]"
      ],
      "metadata": {
        "id": "V7ZkIpn9Lxl1"
      }
    },
    {
      "cell_type": "code",
      "source": [
        "Hotel_df['Negative_Review_tokenized_SWR'] = Hotel_df['Negative_Review_tokenized'].apply(remove_stop_words)\n",
        "Hotel_df['Positive_Review_tokenized_SWR'] = Hotel_df['Positive_Review_tokenized'].apply(remove_stop_words)"
      ],
      "metadata": {
        "id": "7rtYG7EcIA2W"
      },
      "execution_count": 43,
      "outputs": []
    },
    {
      "cell_type": "code",
      "source": [
        "Hotel_df"
      ],
      "metadata": {
        "id": "LmrFCTKGIA5S"
      },
      "execution_count": null,
      "outputs": []
    },
    {
      "cell_type": "code",
      "source": [],
      "metadata": {
        "id": "QM9N7qsXIA7o"
      },
      "execution_count": null,
      "outputs": []
    },
    {
      "cell_type": "code",
      "source": [],
      "metadata": {
        "id": "IJ9tUyltIA9t"
      },
      "execution_count": null,
      "outputs": []
    },
    {
      "cell_type": "code",
      "source": [],
      "metadata": {
        "id": "_pncJfpsIBAQ"
      },
      "execution_count": null,
      "outputs": []
    },
    {
      "cell_type": "code",
      "source": [],
      "metadata": {
        "id": "3D7pL_9WIBCX"
      },
      "execution_count": null,
      "outputs": []
    }
  ]
}