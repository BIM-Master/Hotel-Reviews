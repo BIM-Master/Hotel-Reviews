{
  "nbformat": 4,
  "nbformat_minor": 0,
  "metadata": {
    "colab": {
      "provenance": [],
      "include_colab_link": true
    },
    "kernelspec": {
      "name": "python3",
      "display_name": "Python 3"
    },
    "language_info": {
      "name": "python"
    }
  },
  "cells": [
    {
      "cell_type": "markdown",
      "metadata": {
        "id": "view-in-github",
        "colab_type": "text"
      },
      "source": [
        "<a href=\"https://colab.research.google.com/github/BIM-Master/Hotel-Reviews/blob/main/Hotel_reviews.ipynb\" target=\"_parent\"><img src=\"https://colab.research.google.com/assets/colab-badge.svg\" alt=\"Open In Colab\"/></a>"
      ]
    },
    {
      "cell_type": "code",
      "execution_count": 7,
      "metadata": {
        "id": "WTr2rCkGyLYT",
        "colab": {
          "base_uri": "https://localhost:8080/"
        },
        "outputId": "2b61e438-a65e-4493-b736-8bec67bc7b7a"
      },
      "outputs": [
        {
          "output_type": "stream",
          "name": "stdout",
          "text": [
            "Requirement already satisfied: pandas in /usr/local/lib/python3.10/dist-packages (2.0.3)\n",
            "Requirement already satisfied: python-dateutil>=2.8.2 in /usr/local/lib/python3.10/dist-packages (from pandas) (2.8.2)\n",
            "Requirement already satisfied: pytz>=2020.1 in /usr/local/lib/python3.10/dist-packages (from pandas) (2023.4)\n",
            "Requirement already satisfied: tzdata>=2022.1 in /usr/local/lib/python3.10/dist-packages (from pandas) (2024.1)\n",
            "Requirement already satisfied: numpy>=1.21.0 in /usr/local/lib/python3.10/dist-packages (from pandas) (1.25.2)\n",
            "Requirement already satisfied: six>=1.5 in /usr/local/lib/python3.10/dist-packages (from python-dateutil>=2.8.2->pandas) (1.16.0)\n"
          ]
        }
      ],
      "source": [
        "pip install pandas"
      ]
    },
    {
      "cell_type": "code",
      "source": [
        "from google.colab import drive\n",
        "drive.mount('/content/drive')"
      ],
      "metadata": {
        "id": "rzVqsnpSvc67",
        "outputId": "ccc956c9-d1e3-4674-d13b-41f7f057a3d8",
        "colab": {
          "base_uri": "https://localhost:8080/",
          "height": 316
        }
      },
      "execution_count": 8,
      "outputs": [
        {
          "output_type": "error",
          "ename": "MessageError",
          "evalue": "Error: credential propagation was unsuccessful",
          "traceback": [
            "\u001b[0;31m---------------------------------------------------------------------------\u001b[0m",
            "\u001b[0;31mMessageError\u001b[0m                              Traceback (most recent call last)",
            "\u001b[0;32m<ipython-input-8-d5df0069828e>\u001b[0m in \u001b[0;36m<cell line: 2>\u001b[0;34m()\u001b[0m\n\u001b[1;32m      1\u001b[0m \u001b[0;32mfrom\u001b[0m \u001b[0mgoogle\u001b[0m\u001b[0;34m.\u001b[0m\u001b[0mcolab\u001b[0m \u001b[0;32mimport\u001b[0m \u001b[0mdrive\u001b[0m\u001b[0;34m\u001b[0m\u001b[0;34m\u001b[0m\u001b[0m\n\u001b[0;32m----> 2\u001b[0;31m \u001b[0mdrive\u001b[0m\u001b[0;34m.\u001b[0m\u001b[0mmount\u001b[0m\u001b[0;34m(\u001b[0m\u001b[0;34m'/content/drive'\u001b[0m\u001b[0;34m)\u001b[0m\u001b[0;34m\u001b[0m\u001b[0;34m\u001b[0m\u001b[0m\n\u001b[0m",
            "\u001b[0;32m/usr/local/lib/python3.10/dist-packages/google/colab/drive.py\u001b[0m in \u001b[0;36mmount\u001b[0;34m(mountpoint, force_remount, timeout_ms, readonly)\u001b[0m\n\u001b[1;32m     98\u001b[0m \u001b[0;32mdef\u001b[0m \u001b[0mmount\u001b[0m\u001b[0;34m(\u001b[0m\u001b[0mmountpoint\u001b[0m\u001b[0;34m,\u001b[0m \u001b[0mforce_remount\u001b[0m\u001b[0;34m=\u001b[0m\u001b[0;32mFalse\u001b[0m\u001b[0;34m,\u001b[0m \u001b[0mtimeout_ms\u001b[0m\u001b[0;34m=\u001b[0m\u001b[0;36m120000\u001b[0m\u001b[0;34m,\u001b[0m \u001b[0mreadonly\u001b[0m\u001b[0;34m=\u001b[0m\u001b[0;32mFalse\u001b[0m\u001b[0;34m)\u001b[0m\u001b[0;34m:\u001b[0m\u001b[0;34m\u001b[0m\u001b[0;34m\u001b[0m\u001b[0m\n\u001b[1;32m     99\u001b[0m   \u001b[0;34m\"\"\"Mount your Google Drive at the specified mountpoint path.\"\"\"\u001b[0m\u001b[0;34m\u001b[0m\u001b[0;34m\u001b[0m\u001b[0m\n\u001b[0;32m--> 100\u001b[0;31m   return _mount(\n\u001b[0m\u001b[1;32m    101\u001b[0m       \u001b[0mmountpoint\u001b[0m\u001b[0;34m,\u001b[0m\u001b[0;34m\u001b[0m\u001b[0;34m\u001b[0m\u001b[0m\n\u001b[1;32m    102\u001b[0m       \u001b[0mforce_remount\u001b[0m\u001b[0;34m=\u001b[0m\u001b[0mforce_remount\u001b[0m\u001b[0;34m,\u001b[0m\u001b[0;34m\u001b[0m\u001b[0;34m\u001b[0m\u001b[0m\n",
            "\u001b[0;32m/usr/local/lib/python3.10/dist-packages/google/colab/drive.py\u001b[0m in \u001b[0;36m_mount\u001b[0;34m(mountpoint, force_remount, timeout_ms, ephemeral, readonly)\u001b[0m\n\u001b[1;32m    131\u001b[0m   )\n\u001b[1;32m    132\u001b[0m   \u001b[0;32mif\u001b[0m \u001b[0mephemeral\u001b[0m\u001b[0;34m:\u001b[0m\u001b[0;34m\u001b[0m\u001b[0;34m\u001b[0m\u001b[0m\n\u001b[0;32m--> 133\u001b[0;31m     _message.blocking_request(\n\u001b[0m\u001b[1;32m    134\u001b[0m         \u001b[0;34m'request_auth'\u001b[0m\u001b[0;34m,\u001b[0m \u001b[0mrequest\u001b[0m\u001b[0;34m=\u001b[0m\u001b[0;34m{\u001b[0m\u001b[0;34m'authType'\u001b[0m\u001b[0;34m:\u001b[0m \u001b[0;34m'dfs_ephemeral'\u001b[0m\u001b[0;34m}\u001b[0m\u001b[0;34m,\u001b[0m \u001b[0mtimeout_sec\u001b[0m\u001b[0;34m=\u001b[0m\u001b[0;32mNone\u001b[0m\u001b[0;34m\u001b[0m\u001b[0;34m\u001b[0m\u001b[0m\n\u001b[1;32m    135\u001b[0m     )\n",
            "\u001b[0;32m/usr/local/lib/python3.10/dist-packages/google/colab/_message.py\u001b[0m in \u001b[0;36mblocking_request\u001b[0;34m(request_type, request, timeout_sec, parent)\u001b[0m\n\u001b[1;32m    174\u001b[0m       \u001b[0mrequest_type\u001b[0m\u001b[0;34m,\u001b[0m \u001b[0mrequest\u001b[0m\u001b[0;34m,\u001b[0m \u001b[0mparent\u001b[0m\u001b[0;34m=\u001b[0m\u001b[0mparent\u001b[0m\u001b[0;34m,\u001b[0m \u001b[0mexpect_reply\u001b[0m\u001b[0;34m=\u001b[0m\u001b[0;32mTrue\u001b[0m\u001b[0;34m\u001b[0m\u001b[0;34m\u001b[0m\u001b[0m\n\u001b[1;32m    175\u001b[0m   )\n\u001b[0;32m--> 176\u001b[0;31m   \u001b[0;32mreturn\u001b[0m \u001b[0mread_reply_from_input\u001b[0m\u001b[0;34m(\u001b[0m\u001b[0mrequest_id\u001b[0m\u001b[0;34m,\u001b[0m \u001b[0mtimeout_sec\u001b[0m\u001b[0;34m)\u001b[0m\u001b[0;34m\u001b[0m\u001b[0;34m\u001b[0m\u001b[0m\n\u001b[0m",
            "\u001b[0;32m/usr/local/lib/python3.10/dist-packages/google/colab/_message.py\u001b[0m in \u001b[0;36mread_reply_from_input\u001b[0;34m(message_id, timeout_sec)\u001b[0m\n\u001b[1;32m    101\u001b[0m     ):\n\u001b[1;32m    102\u001b[0m       \u001b[0;32mif\u001b[0m \u001b[0;34m'error'\u001b[0m \u001b[0;32min\u001b[0m \u001b[0mreply\u001b[0m\u001b[0;34m:\u001b[0m\u001b[0;34m\u001b[0m\u001b[0;34m\u001b[0m\u001b[0m\n\u001b[0;32m--> 103\u001b[0;31m         \u001b[0;32mraise\u001b[0m \u001b[0mMessageError\u001b[0m\u001b[0;34m(\u001b[0m\u001b[0mreply\u001b[0m\u001b[0;34m[\u001b[0m\u001b[0;34m'error'\u001b[0m\u001b[0;34m]\u001b[0m\u001b[0;34m)\u001b[0m\u001b[0;34m\u001b[0m\u001b[0;34m\u001b[0m\u001b[0m\n\u001b[0m\u001b[1;32m    104\u001b[0m       \u001b[0;32mreturn\u001b[0m \u001b[0mreply\u001b[0m\u001b[0;34m.\u001b[0m\u001b[0mget\u001b[0m\u001b[0;34m(\u001b[0m\u001b[0;34m'data'\u001b[0m\u001b[0;34m,\u001b[0m \u001b[0;32mNone\u001b[0m\u001b[0;34m)\u001b[0m\u001b[0;34m\u001b[0m\u001b[0;34m\u001b[0m\u001b[0m\n\u001b[1;32m    105\u001b[0m \u001b[0;34m\u001b[0m\u001b[0m\n",
            "\u001b[0;31mMessageError\u001b[0m: Error: credential propagation was unsuccessful"
          ]
        }
      ]
    },
    {
      "cell_type": "code",
      "source": [
        "pip install nltk"
      ],
      "metadata": {
        "id": "5UYs3UdhDDeQ",
        "colab": {
          "base_uri": "https://localhost:8080/"
        },
        "outputId": "e2a01ea0-b4dd-4898-f6b1-c293039092cf"
      },
      "execution_count": 2,
      "outputs": [
        {
          "metadata": {
            "tags": null
          },
          "name": "stdout",
          "output_type": "stream",
          "text": [
            "Requirement already satisfied: nltk in /usr/local/lib/python3.10/dist-packages (3.8.1)\n",
            "Requirement already satisfied: click in /usr/local/lib/python3.10/dist-packages (from nltk) (8.1.7)\n",
            "Requirement already satisfied: joblib in /usr/local/lib/python3.10/dist-packages (from nltk) (1.4.2)\n",
            "Requirement already satisfied: regex>=2021.8.3 in /usr/local/lib/python3.10/dist-packages (from nltk) (2023.12.25)\n",
            "Requirement already satisfied: tqdm in /usr/local/lib/python3.10/dist-packages (from nltk) (4.66.4)\n"
          ]
        }
      ]
    },
    {
      "cell_type": "code",
      "source": [
        "import nltk"
      ],
      "metadata": {
        "id": "duNp_eaGDijy"
      },
      "execution_count": 3,
      "outputs": []
    },
    {
      "cell_type": "code",
      "source": [
        "from nltk.tokenize import word_tokenize"
      ],
      "metadata": {
        "id": "vx2G5uXlDHJl"
      },
      "execution_count": 4,
      "outputs": []
    },
    {
      "cell_type": "code",
      "source": [
        "import pandas as pd"
      ],
      "metadata": {
        "id": "vHyQwzZCyoKV"
      },
      "execution_count": 5,
      "outputs": []
    },
    {
      "cell_type": "code",
      "source": [
        "Hotel_df = pd.read_csv(\"/content/Hotel_Reviews 2.csv\")"
      ],
      "metadata": {
        "id": "R2vENVgdzS0Y",
        "colab": {
          "base_uri": "https://localhost:8080/",
          "height": 316
        },
        "outputId": "b53a6670-bbb6-4120-9a22-7b91d1853e16"
      },
      "execution_count": 6,
      "outputs": [
        {
          "ename": "FileNotFoundError",
          "evalue": "[Errno 2] No such file or directory: '/content/Hotel_Reviews 2.csv'",
          "output_type": "error",
          "traceback": [
            "\u001b[0;31m---------------------------------------------------------------------------\u001b[0m",
            "\u001b[0;31mFileNotFoundError\u001b[0m                         Traceback (most recent call last)",
            "\u001b[0;32m<ipython-input-6-287a2edc703b>\u001b[0m in \u001b[0;36m<cell line: 1>\u001b[0;34m()\u001b[0m\n\u001b[0;32m----> 1\u001b[0;31m \u001b[0mHotel_df\u001b[0m \u001b[0;34m=\u001b[0m \u001b[0mpd\u001b[0m\u001b[0;34m.\u001b[0m\u001b[0mread_csv\u001b[0m\u001b[0;34m(\u001b[0m\u001b[0;34m\"/content/Hotel_Reviews 2.csv\"\u001b[0m\u001b[0;34m)\u001b[0m\u001b[0;34m\u001b[0m\u001b[0;34m\u001b[0m\u001b[0m\n\u001b[0m",
            "\u001b[0;32m/usr/local/lib/python3.10/dist-packages/pandas/io/parsers/readers.py\u001b[0m in \u001b[0;36mread_csv\u001b[0;34m(filepath_or_buffer, sep, delimiter, header, names, index_col, usecols, dtype, engine, converters, true_values, false_values, skipinitialspace, skiprows, skipfooter, nrows, na_values, keep_default_na, na_filter, verbose, skip_blank_lines, parse_dates, infer_datetime_format, keep_date_col, date_parser, date_format, dayfirst, cache_dates, iterator, chunksize, compression, thousands, decimal, lineterminator, quotechar, quoting, doublequote, escapechar, comment, encoding, encoding_errors, dialect, on_bad_lines, delim_whitespace, low_memory, memory_map, float_precision, storage_options, dtype_backend)\u001b[0m\n\u001b[1;32m    910\u001b[0m     \u001b[0mkwds\u001b[0m\u001b[0;34m.\u001b[0m\u001b[0mupdate\u001b[0m\u001b[0;34m(\u001b[0m\u001b[0mkwds_defaults\u001b[0m\u001b[0;34m)\u001b[0m\u001b[0;34m\u001b[0m\u001b[0;34m\u001b[0m\u001b[0m\n\u001b[1;32m    911\u001b[0m \u001b[0;34m\u001b[0m\u001b[0m\n\u001b[0;32m--> 912\u001b[0;31m     \u001b[0;32mreturn\u001b[0m \u001b[0m_read\u001b[0m\u001b[0;34m(\u001b[0m\u001b[0mfilepath_or_buffer\u001b[0m\u001b[0;34m,\u001b[0m \u001b[0mkwds\u001b[0m\u001b[0;34m)\u001b[0m\u001b[0;34m\u001b[0m\u001b[0;34m\u001b[0m\u001b[0m\n\u001b[0m\u001b[1;32m    913\u001b[0m \u001b[0;34m\u001b[0m\u001b[0m\n\u001b[1;32m    914\u001b[0m \u001b[0;34m\u001b[0m\u001b[0m\n",
            "\u001b[0;32m/usr/local/lib/python3.10/dist-packages/pandas/io/parsers/readers.py\u001b[0m in \u001b[0;36m_read\u001b[0;34m(filepath_or_buffer, kwds)\u001b[0m\n\u001b[1;32m    575\u001b[0m \u001b[0;34m\u001b[0m\u001b[0m\n\u001b[1;32m    576\u001b[0m     \u001b[0;31m# Create the parser.\u001b[0m\u001b[0;34m\u001b[0m\u001b[0;34m\u001b[0m\u001b[0m\n\u001b[0;32m--> 577\u001b[0;31m     \u001b[0mparser\u001b[0m \u001b[0;34m=\u001b[0m \u001b[0mTextFileReader\u001b[0m\u001b[0;34m(\u001b[0m\u001b[0mfilepath_or_buffer\u001b[0m\u001b[0;34m,\u001b[0m \u001b[0;34m**\u001b[0m\u001b[0mkwds\u001b[0m\u001b[0;34m)\u001b[0m\u001b[0;34m\u001b[0m\u001b[0;34m\u001b[0m\u001b[0m\n\u001b[0m\u001b[1;32m    578\u001b[0m \u001b[0;34m\u001b[0m\u001b[0m\n\u001b[1;32m    579\u001b[0m     \u001b[0;32mif\u001b[0m \u001b[0mchunksize\u001b[0m \u001b[0;32mor\u001b[0m \u001b[0miterator\u001b[0m\u001b[0;34m:\u001b[0m\u001b[0;34m\u001b[0m\u001b[0;34m\u001b[0m\u001b[0m\n",
            "\u001b[0;32m/usr/local/lib/python3.10/dist-packages/pandas/io/parsers/readers.py\u001b[0m in \u001b[0;36m__init__\u001b[0;34m(self, f, engine, **kwds)\u001b[0m\n\u001b[1;32m   1405\u001b[0m \u001b[0;34m\u001b[0m\u001b[0m\n\u001b[1;32m   1406\u001b[0m         \u001b[0mself\u001b[0m\u001b[0;34m.\u001b[0m\u001b[0mhandles\u001b[0m\u001b[0;34m:\u001b[0m \u001b[0mIOHandles\u001b[0m \u001b[0;34m|\u001b[0m \u001b[0;32mNone\u001b[0m \u001b[0;34m=\u001b[0m \u001b[0;32mNone\u001b[0m\u001b[0;34m\u001b[0m\u001b[0;34m\u001b[0m\u001b[0m\n\u001b[0;32m-> 1407\u001b[0;31m         \u001b[0mself\u001b[0m\u001b[0;34m.\u001b[0m\u001b[0m_engine\u001b[0m \u001b[0;34m=\u001b[0m \u001b[0mself\u001b[0m\u001b[0;34m.\u001b[0m\u001b[0m_make_engine\u001b[0m\u001b[0;34m(\u001b[0m\u001b[0mf\u001b[0m\u001b[0;34m,\u001b[0m \u001b[0mself\u001b[0m\u001b[0;34m.\u001b[0m\u001b[0mengine\u001b[0m\u001b[0;34m)\u001b[0m\u001b[0;34m\u001b[0m\u001b[0;34m\u001b[0m\u001b[0m\n\u001b[0m\u001b[1;32m   1408\u001b[0m \u001b[0;34m\u001b[0m\u001b[0m\n\u001b[1;32m   1409\u001b[0m     \u001b[0;32mdef\u001b[0m \u001b[0mclose\u001b[0m\u001b[0;34m(\u001b[0m\u001b[0mself\u001b[0m\u001b[0;34m)\u001b[0m \u001b[0;34m->\u001b[0m \u001b[0;32mNone\u001b[0m\u001b[0;34m:\u001b[0m\u001b[0;34m\u001b[0m\u001b[0;34m\u001b[0m\u001b[0m\n",
            "\u001b[0;32m/usr/local/lib/python3.10/dist-packages/pandas/io/parsers/readers.py\u001b[0m in \u001b[0;36m_make_engine\u001b[0;34m(self, f, engine)\u001b[0m\n\u001b[1;32m   1659\u001b[0m                 \u001b[0;32mif\u001b[0m \u001b[0;34m\"b\"\u001b[0m \u001b[0;32mnot\u001b[0m \u001b[0;32min\u001b[0m \u001b[0mmode\u001b[0m\u001b[0;34m:\u001b[0m\u001b[0;34m\u001b[0m\u001b[0;34m\u001b[0m\u001b[0m\n\u001b[1;32m   1660\u001b[0m                     \u001b[0mmode\u001b[0m \u001b[0;34m+=\u001b[0m \u001b[0;34m\"b\"\u001b[0m\u001b[0;34m\u001b[0m\u001b[0;34m\u001b[0m\u001b[0m\n\u001b[0;32m-> 1661\u001b[0;31m             self.handles = get_handle(\n\u001b[0m\u001b[1;32m   1662\u001b[0m                 \u001b[0mf\u001b[0m\u001b[0;34m,\u001b[0m\u001b[0;34m\u001b[0m\u001b[0;34m\u001b[0m\u001b[0m\n\u001b[1;32m   1663\u001b[0m                 \u001b[0mmode\u001b[0m\u001b[0;34m,\u001b[0m\u001b[0;34m\u001b[0m\u001b[0;34m\u001b[0m\u001b[0m\n",
            "\u001b[0;32m/usr/local/lib/python3.10/dist-packages/pandas/io/common.py\u001b[0m in \u001b[0;36mget_handle\u001b[0;34m(path_or_buf, mode, encoding, compression, memory_map, is_text, errors, storage_options)\u001b[0m\n\u001b[1;32m    857\u001b[0m         \u001b[0;32mif\u001b[0m \u001b[0mioargs\u001b[0m\u001b[0;34m.\u001b[0m\u001b[0mencoding\u001b[0m \u001b[0;32mand\u001b[0m \u001b[0;34m\"b\"\u001b[0m \u001b[0;32mnot\u001b[0m \u001b[0;32min\u001b[0m \u001b[0mioargs\u001b[0m\u001b[0;34m.\u001b[0m\u001b[0mmode\u001b[0m\u001b[0;34m:\u001b[0m\u001b[0;34m\u001b[0m\u001b[0;34m\u001b[0m\u001b[0m\n\u001b[1;32m    858\u001b[0m             \u001b[0;31m# Encoding\u001b[0m\u001b[0;34m\u001b[0m\u001b[0;34m\u001b[0m\u001b[0m\n\u001b[0;32m--> 859\u001b[0;31m             handle = open(\n\u001b[0m\u001b[1;32m    860\u001b[0m                 \u001b[0mhandle\u001b[0m\u001b[0;34m,\u001b[0m\u001b[0;34m\u001b[0m\u001b[0;34m\u001b[0m\u001b[0m\n\u001b[1;32m    861\u001b[0m                 \u001b[0mioargs\u001b[0m\u001b[0;34m.\u001b[0m\u001b[0mmode\u001b[0m\u001b[0;34m,\u001b[0m\u001b[0;34m\u001b[0m\u001b[0;34m\u001b[0m\u001b[0m\n",
            "\u001b[0;31mFileNotFoundError\u001b[0m: [Errno 2] No such file or directory: '/content/Hotel_Reviews 2.csv'"
          ]
        }
      ]
    },
    {
      "cell_type": "code",
      "source": [
        "Hotel_df"
      ],
      "metadata": {
        "id": "GsIbZbR4zS4r"
      },
      "execution_count": null,
      "outputs": []
    },
    {
      "cell_type": "markdown",
      "source": [
        "Removing attributes"
      ],
      "metadata": {
        "id": "DCIpKuYqZfHX"
      }
    },
    {
      "cell_type": "code",
      "source": [
        "columns_to_remove = [\"Hotel_Address\", \"Additional_Number_of_Scoring\", \"Days_since_review\", \"lat\", \"lng\"]\n",
        "\n",
        "Hotel_df = Hotel_df.drop(columns=columns_to_remove, errors='ignore')"
      ],
      "metadata": {
        "id": "GmrQjLTtZir2"
      },
      "execution_count": 11,
      "outputs": []
    },
    {
      "cell_type": "markdown",
      "source": [
        "\"Naming, Hotel_df cleaned & test it\""
      ],
      "metadata": {
        "id": "xa9161mobXBE"
      }
    },
    {
      "cell_type": "markdown",
      "source": [
        "Tokenization"
      ],
      "metadata": {
        "id": "bxMsIok5OfQt"
      }
    },
    {
      "cell_type": "code",
      "source": [
        "nltk.download('punkt')"
      ],
      "metadata": {
        "id": "6-VhKri-zS-b"
      },
      "execution_count": null,
      "outputs": []
    },
    {
      "cell_type": "code",
      "source": [
        "Hotel_df['Negative_Review_tokenized'] = Hotel_df['Negative_Review'].apply(lambda x: word_tokenize(x))\n",
        "Hotel_df['Positive_Review_tokenized'] = Hotel_df['Positive_Review'].apply(lambda x: word_tokenize(x))\n"
      ],
      "metadata": {
        "id": "01LafAgBzTBi"
      },
      "execution_count": null,
      "outputs": []
    },
    {
      "cell_type": "code",
      "source": [
        "Hotel_df"
      ],
      "metadata": {
        "id": "VYsHj0nzzTDp"
      },
      "execution_count": null,
      "outputs": []
    },
    {
      "cell_type": "markdown",
      "source": [
        "Stop word removal"
      ],
      "metadata": {
        "id": "MxDB0R65Oh8j"
      }
    },
    {
      "cell_type": "code",
      "source": [
        "from nltk.corpus import stopwords"
      ],
      "metadata": {
        "id": "KfyGqmowYXxi"
      },
      "execution_count": 14,
      "outputs": []
    },
    {
      "cell_type": "code",
      "source": [
        "nltk.download('stopwords')"
      ],
      "metadata": {
        "id": "K1wJW1y_zTF-"
      },
      "execution_count": null,
      "outputs": []
    },
    {
      "cell_type": "code",
      "source": [
        "def remove_stop_words(tokens):\n",
        "    stop_words = set(stopwords.words('english'))\n",
        "    stop_words.discard('no')\n",
        "    stop_words.discard('not')\n",
        "    filtered_tokens = [token for token in tokens if token.lower() not in stop_words]\n",
        "    return filtered_tokens"
      ],
      "metadata": {
        "id": "bvYbX25SIAx9"
      },
      "execution_count": null,
      "outputs": []
    },
    {
      "cell_type": "markdown",
      "source": [
        "Test if \"No\" and \"Not\" are not removed during stop words removal"
      ],
      "metadata": {
        "id": "V7ZkIpn9Lxl1"
      }
    },
    {
      "cell_type": "code",
      "source": [
        "Hotel_df['Negative_Review_tokenized_SWR'] = Hotel_df['Negative_Review_tokenized'].apply(remove_stop_words)\n",
        "Hotel_df['Positive_Review_tokenized_SWR'] = Hotel_df['Positive_Review_tokenized'].apply(remove_stop_words)"
      ],
      "metadata": {
        "id": "7rtYG7EcIA2W"
      },
      "execution_count": null,
      "outputs": []
    },
    {
      "cell_type": "code",
      "source": [
        "Hotel_df"
      ],
      "metadata": {
        "id": "LmrFCTKGIA5S"
      },
      "execution_count": null,
      "outputs": []
    },
    {
      "cell_type": "markdown",
      "source": [
        "POS-tagging, might be redundant based on how the code looks after lemmitization"
      ],
      "metadata": {
        "id": "9PmOx_FfOkzS"
      }
    },
    {
      "cell_type": "code",
      "source": [
        "nltk.download('averaged_perceptron_tagger')"
      ],
      "metadata": {
        "id": "QM9N7qsXIA7o"
      },
      "execution_count": null,
      "outputs": []
    },
    {
      "cell_type": "code",
      "source": [
        "from nltk import pos_tag"
      ],
      "metadata": {
        "id": "IJ9tUyltIA9t"
      },
      "execution_count": null,
      "outputs": []
    },
    {
      "cell_type": "code",
      "source": [
        "Hotel_df['Negative_Review_tokenized_SWR_POS'] = Hotel_df['Negative_Review_tokenized_SWR'].apply(lambda x: pos_tag(x))\n",
        "Hotel_df['Positive_Review_tokenized_SWR_POS'] = Hotel_df['Positive_Review_tokenized_SWR'].apply(lambda x: pos_tag(x))"
      ],
      "metadata": {
        "id": "_pncJfpsIBAQ"
      },
      "execution_count": null,
      "outputs": []
    },
    {
      "cell_type": "code",
      "source": [
        "Hotel_df"
      ],
      "metadata": {
        "id": "3D7pL_9WIBCX"
      },
      "execution_count": null,
      "outputs": []
    },
    {
      "cell_type": "markdown",
      "source": [
        "Lemmatization part"
      ],
      "metadata": {
        "id": "G4sYTKymk-vr"
      }
    },
    {
      "cell_type": "code",
      "source": [
        "nltk.download('wordnet')"
      ],
      "metadata": {
        "colab": {
          "base_uri": "https://localhost:8080/"
        },
        "id": "AzE36SMBieW-",
        "outputId": "2eadae1c-d8cc-46f0-d826-0085f369150a"
      },
      "execution_count": 22,
      "outputs": [
        {
          "output_type": "stream",
          "name": "stderr",
          "text": [
            "[nltk_data] Downloading package wordnet to /root/nltk_data...\n",
            "[nltk_data]   Package wordnet is already up-to-date!\n"
          ]
        },
        {
          "output_type": "execute_result",
          "data": {
            "text/plain": [
              "True"
            ]
          },
          "metadata": {},
          "execution_count": 22
        }
      ]
    },
    {
      "cell_type": "code",
      "source": [
        "from nltk.stem import WordNetLemmatizer"
      ],
      "metadata": {
        "id": "9xc0u2L_ieoK"
      },
      "execution_count": 23,
      "outputs": []
    },
    {
      "cell_type": "code",
      "source": [
        "lemmatizer = WordNetLemmatizer()"
      ],
      "metadata": {
        "id": "dy50oXV6ie8d"
      },
      "execution_count": 24,
      "outputs": []
    },
    {
      "cell_type": "code",
      "source": [
        "def lemmatize_tokens(tokens):\n",
        "    return [lemmatizer.lemmatize(token) for token in tokens]"
      ],
      "metadata": {
        "id": "jjJVWxjlku2e"
      },
      "execution_count": 25,
      "outputs": []
    },
    {
      "cell_type": "code",
      "source": [
        "def lemmatize_tokens(tagged_tokens):\n",
        "    lemmatized_tokens = []\n",
        "    for token, pos_tag in tagged_tokens:\n",
        "        pos = pos_tag[0].lower() if pos_tag else 'n'\n",
        "        pos = pos if pos in ['a', 'r', 'n', 'v'] else 'n'\n",
        "        lemmatized_tokens.append(lemmatizer.lemmatize(token, pos))\n",
        "    return lemmatized_tokens"
      ],
      "metadata": {
        "id": "vawD0tYHoxaa"
      },
      "execution_count": 26,
      "outputs": []
    },
    {
      "cell_type": "code",
      "source": [
        "Hotel_df['Negative_Review_tokenized_SWR_POS_Lem'] = Hotel_df['Negative_Review_tokenized_SWR_POS'].apply(lemmatize_tokens)\n",
        "Hotel_df['Positive_Review_tokenized_SWR_POS_Lem'] = Hotel_df['Positive_Review_tokenized_SWR_POS'].apply(lemmatize_tokens)"
      ],
      "metadata": {
        "id": "Xcxqoa71kvk_"
      },
      "execution_count": 27,
      "outputs": []
    },
    {
      "cell_type": "code",
      "source": [
        "Hotel_df"
      ],
      "metadata": {
        "colab": {
          "base_uri": "https://localhost:8080/",
          "height": 1000
        },
        "id": "QtUsvneQkvhw",
        "outputId": "4cb78e8a-37fe-4e49-d933-0a2dbb7ec195"
      },
      "execution_count": 30,
      "outputs": [
        {
          "output_type": "execute_result",
          "data": {
            "text/plain": [
              "       Review_Date  Average_Score             Hotel_Name Reviewer_Nationality  \\\n",
              "0         8/3/2017            7.7            Hotel Arena              Russia    \n",
              "1         8/3/2017            7.7            Hotel Arena             Ireland    \n",
              "2        7/31/2017            7.7            Hotel Arena           Australia    \n",
              "3        7/31/2017            7.7            Hotel Arena      United Kingdom    \n",
              "4        7/24/2017            7.7            Hotel Arena         New Zealand    \n",
              "...            ...            ...                    ...                  ...   \n",
              "515733   8/30/2015            8.1  Atlantis Hotel Vienna              Kuwait    \n",
              "515734   8/22/2015            8.1  Atlantis Hotel Vienna             Estonia    \n",
              "515735   8/19/2015            8.1  Atlantis Hotel Vienna               Egypt    \n",
              "515736   8/17/2015            8.1  Atlantis Hotel Vienna              Mexico    \n",
              "515737    8/9/2015            8.1  Atlantis Hotel Vienna             Hungary    \n",
              "\n",
              "                                          Negative_Review  \\\n",
              "0        I am so angry that i made this post available...   \n",
              "1                                             No Negative   \n",
              "2        Rooms are nice but for elderly a bit difficul...   \n",
              "3        My room was dirty and I was afraid to walk ba...   \n",
              "4        You When I booked with your company on line y...   \n",
              "...                                                   ...   \n",
              "515733   no trolly or staff to help you take the lugga...   \n",
              "515734           The hotel looks like 3 but surely not 4    \n",
              "515735   The ac was useless It was a hot week in vienn...   \n",
              "515736                                        No Negative   \n",
              "515737       I was in 3rd floor It didn t work Free Wife    \n",
              "\n",
              "        Review_Total_Negative_Word_Counts  Total_Number_of_Reviews  \\\n",
              "0                                     397                     1403   \n",
              "1                                       0                     1403   \n",
              "2                                      42                     1403   \n",
              "3                                     210                     1403   \n",
              "4                                     140                     1403   \n",
              "...                                   ...                      ...   \n",
              "515733                                 14                     2823   \n",
              "515734                                 11                     2823   \n",
              "515735                                 19                     2823   \n",
              "515736                                  0                     2823   \n",
              "515737                                 13                     2823   \n",
              "\n",
              "                                          Positive_Review  \\\n",
              "0        Only the park outside of the hotel was beauti...   \n",
              "1        No real complaints the hotel was great great ...   \n",
              "2        Location was good and staff were ok It is cut...   \n",
              "3        Great location in nice surroundings the bar a...   \n",
              "4         Amazing location and building Romantic setting    \n",
              "...                                                   ...   \n",
              "515733                                           location   \n",
              "515734      Breakfast was ok and we got earlier check in    \n",
              "515735                                        No Positive   \n",
              "515736   The rooms are enormous and really comfortable...   \n",
              "515737                               staff was very kind    \n",
              "\n",
              "        Review_Total_Positive_Word_Counts  \\\n",
              "0                                      11   \n",
              "1                                     105   \n",
              "2                                      21   \n",
              "3                                      26   \n",
              "4                                       8   \n",
              "...                                   ...   \n",
              "515733                                  2   \n",
              "515734                                 11   \n",
              "515735                                  0   \n",
              "515736                                 25   \n",
              "515737                                  6   \n",
              "\n",
              "        Total_Number_of_Reviews_Reviewer_Has_Given  ...  \\\n",
              "0                                                7  ...   \n",
              "1                                                7  ...   \n",
              "2                                                9  ...   \n",
              "3                                                1  ...   \n",
              "4                                                3  ...   \n",
              "...                                            ...  ...   \n",
              "515733                                           8  ...   \n",
              "515734                                          12  ...   \n",
              "515735                                           3  ...   \n",
              "515736                                           3  ...   \n",
              "515737                                           1  ...   \n",
              "\n",
              "                                                     Tags days_since_review  \\\n",
              "0       [' Leisure trip ', ' Couple ', ' Duplex Double...            0 days   \n",
              "1       [' Leisure trip ', ' Couple ', ' Duplex Double...            0 days   \n",
              "2       [' Leisure trip ', ' Family with young childre...            3 days   \n",
              "3       [' Leisure trip ', ' Solo traveler ', ' Duplex...            3 days   \n",
              "4       [' Leisure trip ', ' Couple ', ' Suite ', ' St...           10 days   \n",
              "...                                                   ...               ...   \n",
              "515733  [' Leisure trip ', ' Family with older childre...           704 day   \n",
              "515734  [' Leisure trip ', ' Family with young childre...           712 day   \n",
              "515735  [' Leisure trip ', ' Family with older childre...           715 day   \n",
              "515736  [' Leisure trip ', ' Group ', ' Standard Tripl...           717 day   \n",
              "515737  [' Leisure trip ', ' Family with young childre...           725 day   \n",
              "\n",
              "                                Negative_Review_tokenized  \\\n",
              "0       [I, am, so, angry, that, i, made, this, post, ...   \n",
              "1                                          [No, Negative]   \n",
              "2       [Rooms, are, nice, but, for, elderly, a, bit, ...   \n",
              "3       [My, room, was, dirty, and, I, was, afraid, to...   \n",
              "4       [You, When, I, booked, with, your, company, on...   \n",
              "...                                                   ...   \n",
              "515733  [no, trolly, or, staff, to, help, you, take, t...   \n",
              "515734  [The, hotel, looks, like, 3, but, surely, not, 4]   \n",
              "515735  [The, ac, was, useless, It, was, a, hot, week,...   \n",
              "515736                                     [No, Negative]   \n",
              "515737  [I, was, in, 3rd, floor, It, didn, t, work, Fr...   \n",
              "\n",
              "                                Positive_Review_tokenized  \\\n",
              "0       [Only, the, park, outside, of, the, hotel, was...   \n",
              "1       [No, real, complaints, the, hotel, was, great,...   \n",
              "2       [Location, was, good, and, staff, were, ok, It...   \n",
              "3       [Great, location, in, nice, surroundings, the,...   \n",
              "4       [Amazing, location, and, building, Romantic, s...   \n",
              "...                                                   ...   \n",
              "515733                                         [location]   \n",
              "515734  [Breakfast, was, ok, and, we, got, earlier, ch...   \n",
              "515735                                     [No, Positive]   \n",
              "515736  [The, rooms, are, enormous, and, really, comfo...   \n",
              "515737                           [staff, was, very, kind]   \n",
              "\n",
              "                            Negative_Review_tokenized_SWR  \\\n",
              "0       [angry, made, post, available, via, possible, ...   \n",
              "1                                          [No, Negative]   \n",
              "2       [Rooms, nice, elderly, bit, difficult, rooms, ...   \n",
              "3       [room, dirty, afraid, walk, barefoot, floor, l...   \n",
              "4       [booked, company, line, showed, pictures, room...   \n",
              "...                                                   ...   \n",
              "515733     [no, trolly, staff, help, take, luggage, room]   \n",
              "515734            [hotel, looks, like, 3, surely, not, 4]   \n",
              "515735   [ac, useless, hot, week, vienna, gave, hot, air]   \n",
              "515736                                     [No, Negative]   \n",
              "515737                     [3rd, floor, work, Free, Wife]   \n",
              "\n",
              "                            Positive_Review_tokenized_SWR  \\\n",
              "0                       [park, outside, hotel, beautiful]   \n",
              "1       [No, real, complaints, hotel, great, great, lo...   \n",
              "2       [Location, good, staff, ok, cute, hotel, break...   \n",
              "3       [Great, location, nice, surroundings, bar, res...   \n",
              "4        [Amazing, location, building, Romantic, setting]   \n",
              "...                                                   ...   \n",
              "515733                                         [location]   \n",
              "515734               [Breakfast, ok, got, earlier, check]   \n",
              "515735                                     [No, Positive]   \n",
              "515736  [rooms, enormous, really, comfortable, believe...   \n",
              "515737                                      [staff, kind]   \n",
              "\n",
              "                        Negative_Review_tokenized_SWR_POS  \\\n",
              "0       [(angry, JJ), (made, VBD), (post, NN), (availa...   \n",
              "1                             [(No, DT), (Negative, NNP)]   \n",
              "2       [(Rooms, NNP), (nice, RB), (elderly, RB), (bit...   \n",
              "3       [(room, NN), (dirty, NN), (afraid, JJ), (walk,...   \n",
              "4       [(booked, VBN), (company, NN), (line, NN), (sh...   \n",
              "...                                                   ...   \n",
              "515733  [(no, DT), (trolly, RB), (staff, NN), (help, N...   \n",
              "515734  [(hotel, NN), (looks, VBZ), (like, IN), (3, CD...   \n",
              "515735  [(ac, JJ), (useless, JJ), (hot, JJ), (week, NN...   \n",
              "515736                        [(No, DT), (Negative, NNP)]   \n",
              "515737  [(3rd, CD), (floor, NN), (work, NN), (Free, NN...   \n",
              "\n",
              "                        Positive_Review_tokenized_SWR_POS  \\\n",
              "0       [(park, NN), (outside, JJ), (hotel, NN), (beau...   \n",
              "1       [(No, DT), (real, JJ), (complaints, NNS), (hot...   \n",
              "2       [(Location, NN), (good, JJ), (staff, NN), (ok,...   \n",
              "3       [(Great, NNP), (location, NN), (nice, JJ), (su...   \n",
              "4       [(Amazing, VBG), (location, NN), (building, NN...   \n",
              "...                                                   ...   \n",
              "515733                                   [(location, NN)]   \n",
              "515734  [(Breakfast, NNP), (ok, NN), (got, VBD), (earl...   \n",
              "515735                        [(No, DT), (Positive, NNP)]   \n",
              "515736  [(rooms, NNS), (enormous, JJ), (really, RB), (...   \n",
              "515737                          [(staff, NN), (kind, NN)]   \n",
              "\n",
              "                    Negative_Review_tokenized_SWR_POS_Lem  \\\n",
              "0       [angry, make, post, available, via, possible, ...   \n",
              "1                                          [No, Negative]   \n",
              "2       [Rooms, nice, elderly, bit, difficult, room, t...   \n",
              "3       [room, dirty, afraid, walk, barefoot, floor, l...   \n",
              "4       [book, company, line, show, picture, room, thi...   \n",
              "...                                                   ...   \n",
              "515733     [no, trolly, staff, help, take, luggage, room]   \n",
              "515734             [hotel, look, like, 3, surely, not, 4]   \n",
              "515735   [ac, useless, hot, week, vienna, give, hot, air]   \n",
              "515736                                     [No, Negative]   \n",
              "515737                     [3rd, floor, work, Free, Wife]   \n",
              "\n",
              "                    Positive_Review_tokenized_SWR_POS_Lem  \n",
              "0                       [park, outside, hotel, beautiful]  \n",
              "1       [No, real, complaint, hotel, great, great, loc...  \n",
              "2       [Location, good, staff, ok, cute, hotel, break...  \n",
              "3       [Great, location, nice, surroundings, bar, res...  \n",
              "4        [Amazing, location, building, Romantic, setting]  \n",
              "...                                                   ...  \n",
              "515733                                         [location]  \n",
              "515734               [Breakfast, ok, get, earlier, check]  \n",
              "515735                                     [No, Positive]  \n",
              "515736  [room, enormous, really, comfortable, believe,...  \n",
              "515737                                      [staff, kind]  \n",
              "\n",
              "[515738 rows x 21 columns]"
            ],
            "text/html": [
              "\n",
              "  <div id=\"df-9a8c4bb8-a920-4d59-9b15-d4d2b1489710\" class=\"colab-df-container\">\n",
              "    <div>\n",
              "<style scoped>\n",
              "    .dataframe tbody tr th:only-of-type {\n",
              "        vertical-align: middle;\n",
              "    }\n",
              "\n",
              "    .dataframe tbody tr th {\n",
              "        vertical-align: top;\n",
              "    }\n",
              "\n",
              "    .dataframe thead th {\n",
              "        text-align: right;\n",
              "    }\n",
              "</style>\n",
              "<table border=\"1\" class=\"dataframe\">\n",
              "  <thead>\n",
              "    <tr style=\"text-align: right;\">\n",
              "      <th></th>\n",
              "      <th>Review_Date</th>\n",
              "      <th>Average_Score</th>\n",
              "      <th>Hotel_Name</th>\n",
              "      <th>Reviewer_Nationality</th>\n",
              "      <th>Negative_Review</th>\n",
              "      <th>Review_Total_Negative_Word_Counts</th>\n",
              "      <th>Total_Number_of_Reviews</th>\n",
              "      <th>Positive_Review</th>\n",
              "      <th>Review_Total_Positive_Word_Counts</th>\n",
              "      <th>Total_Number_of_Reviews_Reviewer_Has_Given</th>\n",
              "      <th>...</th>\n",
              "      <th>Tags</th>\n",
              "      <th>days_since_review</th>\n",
              "      <th>Negative_Review_tokenized</th>\n",
              "      <th>Positive_Review_tokenized</th>\n",
              "      <th>Negative_Review_tokenized_SWR</th>\n",
              "      <th>Positive_Review_tokenized_SWR</th>\n",
              "      <th>Negative_Review_tokenized_SWR_POS</th>\n",
              "      <th>Positive_Review_tokenized_SWR_POS</th>\n",
              "      <th>Negative_Review_tokenized_SWR_POS_Lem</th>\n",
              "      <th>Positive_Review_tokenized_SWR_POS_Lem</th>\n",
              "    </tr>\n",
              "  </thead>\n",
              "  <tbody>\n",
              "    <tr>\n",
              "      <th>0</th>\n",
              "      <td>8/3/2017</td>\n",
              "      <td>7.7</td>\n",
              "      <td>Hotel Arena</td>\n",
              "      <td>Russia</td>\n",
              "      <td>I am so angry that i made this post available...</td>\n",
              "      <td>397</td>\n",
              "      <td>1403</td>\n",
              "      <td>Only the park outside of the hotel was beauti...</td>\n",
              "      <td>11</td>\n",
              "      <td>7</td>\n",
              "      <td>...</td>\n",
              "      <td>[' Leisure trip ', ' Couple ', ' Duplex Double...</td>\n",
              "      <td>0 days</td>\n",
              "      <td>[I, am, so, angry, that, i, made, this, post, ...</td>\n",
              "      <td>[Only, the, park, outside, of, the, hotel, was...</td>\n",
              "      <td>[angry, made, post, available, via, possible, ...</td>\n",
              "      <td>[park, outside, hotel, beautiful]</td>\n",
              "      <td>[(angry, JJ), (made, VBD), (post, NN), (availa...</td>\n",
              "      <td>[(park, NN), (outside, JJ), (hotel, NN), (beau...</td>\n",
              "      <td>[angry, make, post, available, via, possible, ...</td>\n",
              "      <td>[park, outside, hotel, beautiful]</td>\n",
              "    </tr>\n",
              "    <tr>\n",
              "      <th>1</th>\n",
              "      <td>8/3/2017</td>\n",
              "      <td>7.7</td>\n",
              "      <td>Hotel Arena</td>\n",
              "      <td>Ireland</td>\n",
              "      <td>No Negative</td>\n",
              "      <td>0</td>\n",
              "      <td>1403</td>\n",
              "      <td>No real complaints the hotel was great great ...</td>\n",
              "      <td>105</td>\n",
              "      <td>7</td>\n",
              "      <td>...</td>\n",
              "      <td>[' Leisure trip ', ' Couple ', ' Duplex Double...</td>\n",
              "      <td>0 days</td>\n",
              "      <td>[No, Negative]</td>\n",
              "      <td>[No, real, complaints, the, hotel, was, great,...</td>\n",
              "      <td>[No, Negative]</td>\n",
              "      <td>[No, real, complaints, hotel, great, great, lo...</td>\n",
              "      <td>[(No, DT), (Negative, NNP)]</td>\n",
              "      <td>[(No, DT), (real, JJ), (complaints, NNS), (hot...</td>\n",
              "      <td>[No, Negative]</td>\n",
              "      <td>[No, real, complaint, hotel, great, great, loc...</td>\n",
              "    </tr>\n",
              "    <tr>\n",
              "      <th>2</th>\n",
              "      <td>7/31/2017</td>\n",
              "      <td>7.7</td>\n",
              "      <td>Hotel Arena</td>\n",
              "      <td>Australia</td>\n",
              "      <td>Rooms are nice but for elderly a bit difficul...</td>\n",
              "      <td>42</td>\n",
              "      <td>1403</td>\n",
              "      <td>Location was good and staff were ok It is cut...</td>\n",
              "      <td>21</td>\n",
              "      <td>9</td>\n",
              "      <td>...</td>\n",
              "      <td>[' Leisure trip ', ' Family with young childre...</td>\n",
              "      <td>3 days</td>\n",
              "      <td>[Rooms, are, nice, but, for, elderly, a, bit, ...</td>\n",
              "      <td>[Location, was, good, and, staff, were, ok, It...</td>\n",
              "      <td>[Rooms, nice, elderly, bit, difficult, rooms, ...</td>\n",
              "      <td>[Location, good, staff, ok, cute, hotel, break...</td>\n",
              "      <td>[(Rooms, NNP), (nice, RB), (elderly, RB), (bit...</td>\n",
              "      <td>[(Location, NN), (good, JJ), (staff, NN), (ok,...</td>\n",
              "      <td>[Rooms, nice, elderly, bit, difficult, room, t...</td>\n",
              "      <td>[Location, good, staff, ok, cute, hotel, break...</td>\n",
              "    </tr>\n",
              "    <tr>\n",
              "      <th>3</th>\n",
              "      <td>7/31/2017</td>\n",
              "      <td>7.7</td>\n",
              "      <td>Hotel Arena</td>\n",
              "      <td>United Kingdom</td>\n",
              "      <td>My room was dirty and I was afraid to walk ba...</td>\n",
              "      <td>210</td>\n",
              "      <td>1403</td>\n",
              "      <td>Great location in nice surroundings the bar a...</td>\n",
              "      <td>26</td>\n",
              "      <td>1</td>\n",
              "      <td>...</td>\n",
              "      <td>[' Leisure trip ', ' Solo traveler ', ' Duplex...</td>\n",
              "      <td>3 days</td>\n",
              "      <td>[My, room, was, dirty, and, I, was, afraid, to...</td>\n",
              "      <td>[Great, location, in, nice, surroundings, the,...</td>\n",
              "      <td>[room, dirty, afraid, walk, barefoot, floor, l...</td>\n",
              "      <td>[Great, location, nice, surroundings, bar, res...</td>\n",
              "      <td>[(room, NN), (dirty, NN), (afraid, JJ), (walk,...</td>\n",
              "      <td>[(Great, NNP), (location, NN), (nice, JJ), (su...</td>\n",
              "      <td>[room, dirty, afraid, walk, barefoot, floor, l...</td>\n",
              "      <td>[Great, location, nice, surroundings, bar, res...</td>\n",
              "    </tr>\n",
              "    <tr>\n",
              "      <th>4</th>\n",
              "      <td>7/24/2017</td>\n",
              "      <td>7.7</td>\n",
              "      <td>Hotel Arena</td>\n",
              "      <td>New Zealand</td>\n",
              "      <td>You When I booked with your company on line y...</td>\n",
              "      <td>140</td>\n",
              "      <td>1403</td>\n",
              "      <td>Amazing location and building Romantic setting</td>\n",
              "      <td>8</td>\n",
              "      <td>3</td>\n",
              "      <td>...</td>\n",
              "      <td>[' Leisure trip ', ' Couple ', ' Suite ', ' St...</td>\n",
              "      <td>10 days</td>\n",
              "      <td>[You, When, I, booked, with, your, company, on...</td>\n",
              "      <td>[Amazing, location, and, building, Romantic, s...</td>\n",
              "      <td>[booked, company, line, showed, pictures, room...</td>\n",
              "      <td>[Amazing, location, building, Romantic, setting]</td>\n",
              "      <td>[(booked, VBN), (company, NN), (line, NN), (sh...</td>\n",
              "      <td>[(Amazing, VBG), (location, NN), (building, NN...</td>\n",
              "      <td>[book, company, line, show, picture, room, thi...</td>\n",
              "      <td>[Amazing, location, building, Romantic, setting]</td>\n",
              "    </tr>\n",
              "    <tr>\n",
              "      <th>...</th>\n",
              "      <td>...</td>\n",
              "      <td>...</td>\n",
              "      <td>...</td>\n",
              "      <td>...</td>\n",
              "      <td>...</td>\n",
              "      <td>...</td>\n",
              "      <td>...</td>\n",
              "      <td>...</td>\n",
              "      <td>...</td>\n",
              "      <td>...</td>\n",
              "      <td>...</td>\n",
              "      <td>...</td>\n",
              "      <td>...</td>\n",
              "      <td>...</td>\n",
              "      <td>...</td>\n",
              "      <td>...</td>\n",
              "      <td>...</td>\n",
              "      <td>...</td>\n",
              "      <td>...</td>\n",
              "      <td>...</td>\n",
              "      <td>...</td>\n",
              "    </tr>\n",
              "    <tr>\n",
              "      <th>515733</th>\n",
              "      <td>8/30/2015</td>\n",
              "      <td>8.1</td>\n",
              "      <td>Atlantis Hotel Vienna</td>\n",
              "      <td>Kuwait</td>\n",
              "      <td>no trolly or staff to help you take the lugga...</td>\n",
              "      <td>14</td>\n",
              "      <td>2823</td>\n",
              "      <td>location</td>\n",
              "      <td>2</td>\n",
              "      <td>8</td>\n",
              "      <td>...</td>\n",
              "      <td>[' Leisure trip ', ' Family with older childre...</td>\n",
              "      <td>704 day</td>\n",
              "      <td>[no, trolly, or, staff, to, help, you, take, t...</td>\n",
              "      <td>[location]</td>\n",
              "      <td>[no, trolly, staff, help, take, luggage, room]</td>\n",
              "      <td>[location]</td>\n",
              "      <td>[(no, DT), (trolly, RB), (staff, NN), (help, N...</td>\n",
              "      <td>[(location, NN)]</td>\n",
              "      <td>[no, trolly, staff, help, take, luggage, room]</td>\n",
              "      <td>[location]</td>\n",
              "    </tr>\n",
              "    <tr>\n",
              "      <th>515734</th>\n",
              "      <td>8/22/2015</td>\n",
              "      <td>8.1</td>\n",
              "      <td>Atlantis Hotel Vienna</td>\n",
              "      <td>Estonia</td>\n",
              "      <td>The hotel looks like 3 but surely not 4</td>\n",
              "      <td>11</td>\n",
              "      <td>2823</td>\n",
              "      <td>Breakfast was ok and we got earlier check in</td>\n",
              "      <td>11</td>\n",
              "      <td>12</td>\n",
              "      <td>...</td>\n",
              "      <td>[' Leisure trip ', ' Family with young childre...</td>\n",
              "      <td>712 day</td>\n",
              "      <td>[The, hotel, looks, like, 3, but, surely, not, 4]</td>\n",
              "      <td>[Breakfast, was, ok, and, we, got, earlier, ch...</td>\n",
              "      <td>[hotel, looks, like, 3, surely, not, 4]</td>\n",
              "      <td>[Breakfast, ok, got, earlier, check]</td>\n",
              "      <td>[(hotel, NN), (looks, VBZ), (like, IN), (3, CD...</td>\n",
              "      <td>[(Breakfast, NNP), (ok, NN), (got, VBD), (earl...</td>\n",
              "      <td>[hotel, look, like, 3, surely, not, 4]</td>\n",
              "      <td>[Breakfast, ok, get, earlier, check]</td>\n",
              "    </tr>\n",
              "    <tr>\n",
              "      <th>515735</th>\n",
              "      <td>8/19/2015</td>\n",
              "      <td>8.1</td>\n",
              "      <td>Atlantis Hotel Vienna</td>\n",
              "      <td>Egypt</td>\n",
              "      <td>The ac was useless It was a hot week in vienn...</td>\n",
              "      <td>19</td>\n",
              "      <td>2823</td>\n",
              "      <td>No Positive</td>\n",
              "      <td>0</td>\n",
              "      <td>3</td>\n",
              "      <td>...</td>\n",
              "      <td>[' Leisure trip ', ' Family with older childre...</td>\n",
              "      <td>715 day</td>\n",
              "      <td>[The, ac, was, useless, It, was, a, hot, week,...</td>\n",
              "      <td>[No, Positive]</td>\n",
              "      <td>[ac, useless, hot, week, vienna, gave, hot, air]</td>\n",
              "      <td>[No, Positive]</td>\n",
              "      <td>[(ac, JJ), (useless, JJ), (hot, JJ), (week, NN...</td>\n",
              "      <td>[(No, DT), (Positive, NNP)]</td>\n",
              "      <td>[ac, useless, hot, week, vienna, give, hot, air]</td>\n",
              "      <td>[No, Positive]</td>\n",
              "    </tr>\n",
              "    <tr>\n",
              "      <th>515736</th>\n",
              "      <td>8/17/2015</td>\n",
              "      <td>8.1</td>\n",
              "      <td>Atlantis Hotel Vienna</td>\n",
              "      <td>Mexico</td>\n",
              "      <td>No Negative</td>\n",
              "      <td>0</td>\n",
              "      <td>2823</td>\n",
              "      <td>The rooms are enormous and really comfortable...</td>\n",
              "      <td>25</td>\n",
              "      <td>3</td>\n",
              "      <td>...</td>\n",
              "      <td>[' Leisure trip ', ' Group ', ' Standard Tripl...</td>\n",
              "      <td>717 day</td>\n",
              "      <td>[No, Negative]</td>\n",
              "      <td>[The, rooms, are, enormous, and, really, comfo...</td>\n",
              "      <td>[No, Negative]</td>\n",
              "      <td>[rooms, enormous, really, comfortable, believe...</td>\n",
              "      <td>[(No, DT), (Negative, NNP)]</td>\n",
              "      <td>[(rooms, NNS), (enormous, JJ), (really, RB), (...</td>\n",
              "      <td>[No, Negative]</td>\n",
              "      <td>[room, enormous, really, comfortable, believe,...</td>\n",
              "    </tr>\n",
              "    <tr>\n",
              "      <th>515737</th>\n",
              "      <td>8/9/2015</td>\n",
              "      <td>8.1</td>\n",
              "      <td>Atlantis Hotel Vienna</td>\n",
              "      <td>Hungary</td>\n",
              "      <td>I was in 3rd floor It didn t work Free Wife</td>\n",
              "      <td>13</td>\n",
              "      <td>2823</td>\n",
              "      <td>staff was very kind</td>\n",
              "      <td>6</td>\n",
              "      <td>1</td>\n",
              "      <td>...</td>\n",
              "      <td>[' Leisure trip ', ' Family with young childre...</td>\n",
              "      <td>725 day</td>\n",
              "      <td>[I, was, in, 3rd, floor, It, didn, t, work, Fr...</td>\n",
              "      <td>[staff, was, very, kind]</td>\n",
              "      <td>[3rd, floor, work, Free, Wife]</td>\n",
              "      <td>[staff, kind]</td>\n",
              "      <td>[(3rd, CD), (floor, NN), (work, NN), (Free, NN...</td>\n",
              "      <td>[(staff, NN), (kind, NN)]</td>\n",
              "      <td>[3rd, floor, work, Free, Wife]</td>\n",
              "      <td>[staff, kind]</td>\n",
              "    </tr>\n",
              "  </tbody>\n",
              "</table>\n",
              "<p>515738 rows × 21 columns</p>\n",
              "</div>\n",
              "    <div class=\"colab-df-buttons\">\n",
              "\n",
              "  <div class=\"colab-df-container\">\n",
              "    <button class=\"colab-df-convert\" onclick=\"convertToInteractive('df-9a8c4bb8-a920-4d59-9b15-d4d2b1489710')\"\n",
              "            title=\"Convert this dataframe to an interactive table.\"\n",
              "            style=\"display:none;\">\n",
              "\n",
              "  <svg xmlns=\"http://www.w3.org/2000/svg\" height=\"24px\" viewBox=\"0 -960 960 960\">\n",
              "    <path d=\"M120-120v-720h720v720H120Zm60-500h600v-160H180v160Zm220 220h160v-160H400v160Zm0 220h160v-160H400v160ZM180-400h160v-160H180v160Zm440 0h160v-160H620v160ZM180-180h160v-160H180v160Zm440 0h160v-160H620v160Z\"/>\n",
              "  </svg>\n",
              "    </button>\n",
              "\n",
              "  <style>\n",
              "    .colab-df-container {\n",
              "      display:flex;\n",
              "      gap: 12px;\n",
              "    }\n",
              "\n",
              "    .colab-df-convert {\n",
              "      background-color: #E8F0FE;\n",
              "      border: none;\n",
              "      border-radius: 50%;\n",
              "      cursor: pointer;\n",
              "      display: none;\n",
              "      fill: #1967D2;\n",
              "      height: 32px;\n",
              "      padding: 0 0 0 0;\n",
              "      width: 32px;\n",
              "    }\n",
              "\n",
              "    .colab-df-convert:hover {\n",
              "      background-color: #E2EBFA;\n",
              "      box-shadow: 0px 1px 2px rgba(60, 64, 67, 0.3), 0px 1px 3px 1px rgba(60, 64, 67, 0.15);\n",
              "      fill: #174EA6;\n",
              "    }\n",
              "\n",
              "    .colab-df-buttons div {\n",
              "      margin-bottom: 4px;\n",
              "    }\n",
              "\n",
              "    [theme=dark] .colab-df-convert {\n",
              "      background-color: #3B4455;\n",
              "      fill: #D2E3FC;\n",
              "    }\n",
              "\n",
              "    [theme=dark] .colab-df-convert:hover {\n",
              "      background-color: #434B5C;\n",
              "      box-shadow: 0px 1px 3px 1px rgba(0, 0, 0, 0.15);\n",
              "      filter: drop-shadow(0px 1px 2px rgba(0, 0, 0, 0.3));\n",
              "      fill: #FFFFFF;\n",
              "    }\n",
              "  </style>\n",
              "\n",
              "    <script>\n",
              "      const buttonEl =\n",
              "        document.querySelector('#df-9a8c4bb8-a920-4d59-9b15-d4d2b1489710 button.colab-df-convert');\n",
              "      buttonEl.style.display =\n",
              "        google.colab.kernel.accessAllowed ? 'block' : 'none';\n",
              "\n",
              "      async function convertToInteractive(key) {\n",
              "        const element = document.querySelector('#df-9a8c4bb8-a920-4d59-9b15-d4d2b1489710');\n",
              "        const dataTable =\n",
              "          await google.colab.kernel.invokeFunction('convertToInteractive',\n",
              "                                                    [key], {});\n",
              "        if (!dataTable) return;\n",
              "\n",
              "        const docLinkHtml = 'Like what you see? Visit the ' +\n",
              "          '<a target=\"_blank\" href=https://colab.research.google.com/notebooks/data_table.ipynb>data table notebook</a>'\n",
              "          + ' to learn more about interactive tables.';\n",
              "        element.innerHTML = '';\n",
              "        dataTable['output_type'] = 'display_data';\n",
              "        await google.colab.output.renderOutput(dataTable, element);\n",
              "        const docLink = document.createElement('div');\n",
              "        docLink.innerHTML = docLinkHtml;\n",
              "        element.appendChild(docLink);\n",
              "      }\n",
              "    </script>\n",
              "  </div>\n",
              "\n",
              "\n",
              "<div id=\"df-199712e0-5ce3-4770-97f1-239509b8f58a\">\n",
              "  <button class=\"colab-df-quickchart\" onclick=\"quickchart('df-199712e0-5ce3-4770-97f1-239509b8f58a')\"\n",
              "            title=\"Suggest charts\"\n",
              "            style=\"display:none;\">\n",
              "\n",
              "<svg xmlns=\"http://www.w3.org/2000/svg\" height=\"24px\"viewBox=\"0 0 24 24\"\n",
              "     width=\"24px\">\n",
              "    <g>\n",
              "        <path d=\"M19 3H5c-1.1 0-2 .9-2 2v14c0 1.1.9 2 2 2h14c1.1 0 2-.9 2-2V5c0-1.1-.9-2-2-2zM9 17H7v-7h2v7zm4 0h-2V7h2v10zm4 0h-2v-4h2v4z\"/>\n",
              "    </g>\n",
              "</svg>\n",
              "  </button>\n",
              "\n",
              "<style>\n",
              "  .colab-df-quickchart {\n",
              "      --bg-color: #E8F0FE;\n",
              "      --fill-color: #1967D2;\n",
              "      --hover-bg-color: #E2EBFA;\n",
              "      --hover-fill-color: #174EA6;\n",
              "      --disabled-fill-color: #AAA;\n",
              "      --disabled-bg-color: #DDD;\n",
              "  }\n",
              "\n",
              "  [theme=dark] .colab-df-quickchart {\n",
              "      --bg-color: #3B4455;\n",
              "      --fill-color: #D2E3FC;\n",
              "      --hover-bg-color: #434B5C;\n",
              "      --hover-fill-color: #FFFFFF;\n",
              "      --disabled-bg-color: #3B4455;\n",
              "      --disabled-fill-color: #666;\n",
              "  }\n",
              "\n",
              "  .colab-df-quickchart {\n",
              "    background-color: var(--bg-color);\n",
              "    border: none;\n",
              "    border-radius: 50%;\n",
              "    cursor: pointer;\n",
              "    display: none;\n",
              "    fill: var(--fill-color);\n",
              "    height: 32px;\n",
              "    padding: 0;\n",
              "    width: 32px;\n",
              "  }\n",
              "\n",
              "  .colab-df-quickchart:hover {\n",
              "    background-color: var(--hover-bg-color);\n",
              "    box-shadow: 0 1px 2px rgba(60, 64, 67, 0.3), 0 1px 3px 1px rgba(60, 64, 67, 0.15);\n",
              "    fill: var(--button-hover-fill-color);\n",
              "  }\n",
              "\n",
              "  .colab-df-quickchart-complete:disabled,\n",
              "  .colab-df-quickchart-complete:disabled:hover {\n",
              "    background-color: var(--disabled-bg-color);\n",
              "    fill: var(--disabled-fill-color);\n",
              "    box-shadow: none;\n",
              "  }\n",
              "\n",
              "  .colab-df-spinner {\n",
              "    border: 2px solid var(--fill-color);\n",
              "    border-color: transparent;\n",
              "    border-bottom-color: var(--fill-color);\n",
              "    animation:\n",
              "      spin 1s steps(1) infinite;\n",
              "  }\n",
              "\n",
              "  @keyframes spin {\n",
              "    0% {\n",
              "      border-color: transparent;\n",
              "      border-bottom-color: var(--fill-color);\n",
              "      border-left-color: var(--fill-color);\n",
              "    }\n",
              "    20% {\n",
              "      border-color: transparent;\n",
              "      border-left-color: var(--fill-color);\n",
              "      border-top-color: var(--fill-color);\n",
              "    }\n",
              "    30% {\n",
              "      border-color: transparent;\n",
              "      border-left-color: var(--fill-color);\n",
              "      border-top-color: var(--fill-color);\n",
              "      border-right-color: var(--fill-color);\n",
              "    }\n",
              "    40% {\n",
              "      border-color: transparent;\n",
              "      border-right-color: var(--fill-color);\n",
              "      border-top-color: var(--fill-color);\n",
              "    }\n",
              "    60% {\n",
              "      border-color: transparent;\n",
              "      border-right-color: var(--fill-color);\n",
              "    }\n",
              "    80% {\n",
              "      border-color: transparent;\n",
              "      border-right-color: var(--fill-color);\n",
              "      border-bottom-color: var(--fill-color);\n",
              "    }\n",
              "    90% {\n",
              "      border-color: transparent;\n",
              "      border-bottom-color: var(--fill-color);\n",
              "    }\n",
              "  }\n",
              "</style>\n",
              "\n",
              "  <script>\n",
              "    async function quickchart(key) {\n",
              "      const quickchartButtonEl =\n",
              "        document.querySelector('#' + key + ' button');\n",
              "      quickchartButtonEl.disabled = true;  // To prevent multiple clicks.\n",
              "      quickchartButtonEl.classList.add('colab-df-spinner');\n",
              "      try {\n",
              "        const charts = await google.colab.kernel.invokeFunction(\n",
              "            'suggestCharts', [key], {});\n",
              "      } catch (error) {\n",
              "        console.error('Error during call to suggestCharts:', error);\n",
              "      }\n",
              "      quickchartButtonEl.classList.remove('colab-df-spinner');\n",
              "      quickchartButtonEl.classList.add('colab-df-quickchart-complete');\n",
              "    }\n",
              "    (() => {\n",
              "      let quickchartButtonEl =\n",
              "        document.querySelector('#df-199712e0-5ce3-4770-97f1-239509b8f58a button');\n",
              "      quickchartButtonEl.style.display =\n",
              "        google.colab.kernel.accessAllowed ? 'block' : 'none';\n",
              "    })();\n",
              "  </script>\n",
              "</div>\n",
              "    </div>\n",
              "  </div>\n"
            ],
            "application/vnd.google.colaboratory.intrinsic+json": {
              "type": "dataframe",
              "variable_name": "Hotel_df"
            }
          },
          "metadata": {},
          "execution_count": 30
        }
      ]
    },
    {
      "cell_type": "markdown",
      "source": [
        "Feature Extraction, TD-IDF"
      ],
      "metadata": {
        "id": "58i6GNKQsc_u"
      }
    },
    {
      "cell_type": "code",
      "source": [
        "from sklearn.feature_extraction.text import TfidfVectorizer\n",
        "\n",
        "# Initialize TfidfVectorizer\n",
        "vectorizer = TfidfVectorizer()\n",
        "\n",
        "# Fit and transform the text data\n",
        "Negative_Review_tokenized_SWR_POS_Lem_tfidf = vectorizer.fit_transform(Hotel_df['Negative_Review_tokenized_SWR_POS_Lem'].apply(' '.join))\n",
        "Positive_Review_tokenized_SWR_POS_Lem_tfidf = vectorizer.fit_transform(Hotel_df['Positive_Review_tokenized_SWR_POS_Lem'].apply(' '.join))\n",
        "\n",
        "\n"
      ],
      "metadata": {
        "id": "bl0nglJvkvea"
      },
      "execution_count": 28,
      "outputs": []
    },
    {
      "cell_type": "code",
      "source": [
        "# Convert to DataFrame\n",
        "Negative_Review_tokenized_SWR_POS_Lem_tfidf_df = pd.DataFrame(Negative_Review_tokenized_SWR_POS_Lem_tfidf.toarray(), columns=vectorizer.get_feature_names_out())\n",
        "Positive_Review_tokenized_SWR_POS_Lem_tfidf_df = pd.DataFrame(Positive_Review_tokenized_SWR_POS_Lem_tfidf.toarray(), columns=vectorizer.get_feature_names_out())\n",
        "\n",
        "# Concatenate the TF-IDF features with the original DataFrame\n",
        "Hot_df = pd.DataFrame()\n",
        "Hot_df = pd.concat([df, Negative_Review_tokenized_SWR_POS_Lem_tfidf_df, Positive_Review_tokenized_SWR_POS_Lem_tfidf_df], axis=1)"
      ],
      "metadata": {
        "id": "fItsOJqLkvd2"
      },
      "execution_count": null,
      "outputs": []
    },
    {
      "cell_type": "code",
      "source": [],
      "metadata": {
        "id": "1KNhdBbcvGF5"
      },
      "execution_count": null,
      "outputs": []
    },
    {
      "cell_type": "markdown",
      "source": [
        "Sentiment Analysis"
      ],
      "metadata": {
        "id": "rOrEzyfOse08"
      }
    },
    {
      "cell_type": "code",
      "source": [],
      "metadata": {
        "id": "20uY6f_Lkvb7"
      },
      "execution_count": null,
      "outputs": []
    },
    {
      "cell_type": "code",
      "source": [],
      "metadata": {
        "id": "bj6wfDw3kvVd"
      },
      "execution_count": null,
      "outputs": []
    },
    {
      "cell_type": "code",
      "source": [],
      "metadata": {
        "id": "vCJoADXckvO-"
      },
      "execution_count": null,
      "outputs": []
    },
    {
      "cell_type": "code",
      "source": [],
      "metadata": {
        "id": "n6qiGsykkvER"
      },
      "execution_count": null,
      "outputs": []
    }
  ]
}