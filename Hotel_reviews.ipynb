{
  "nbformat": 4,
  "nbformat_minor": 0,
  "metadata": {
    "colab": {
      "provenance": [],
      "include_colab_link": true
    },
    "kernelspec": {
      "name": "python3",
      "display_name": "Python 3"
    },
    "language_info": {
      "name": "python"
    }
  },
  "cells": [
    {
      "cell_type": "markdown",
      "metadata": {
        "id": "view-in-github",
        "colab_type": "text"
      },
      "source": [
        "<a href=\"https://colab.research.google.com/github/BIM-Master/Hotel-Reviews/blob/main/Hotel_reviews.ipynb\" target=\"_parent\"><img src=\"https://colab.research.google.com/assets/colab-badge.svg\" alt=\"Open In Colab\"/></a>"
      ]
    },
    {
      "cell_type": "code",
      "execution_count": null,
      "metadata": {
        "id": "WTr2rCkGyLYT"
      },
      "outputs": [],
      "source": [
        "pip install pandas"
      ]
    },
    {
      "cell_type": "code",
      "source": [
        "pip install nltk"
      ],
      "metadata": {
        "id": "5UYs3UdhDDeQ"
      },
      "execution_count": null,
      "outputs": []
    },
    {
      "cell_type": "code",
      "source": [
        "import nltk"
      ],
      "metadata": {
        "id": "duNp_eaGDijy"
      },
      "execution_count": null,
      "outputs": []
    },
    {
      "cell_type": "code",
      "source": [
        "from nltk.tokenize import word_tokenize"
      ],
      "metadata": {
        "id": "vx2G5uXlDHJl"
      },
      "execution_count": null,
      "outputs": []
    },
    {
      "cell_type": "code",
      "source": [
        "import pandas as pd"
      ],
      "metadata": {
        "id": "vHyQwzZCyoKV"
      },
      "execution_count": null,
      "outputs": []
    },
    {
      "cell_type": "code",
      "source": [
        "Hotel_df = pd.read_csv(\"/content/Hotel_Reviews 2.csv\")"
      ],
      "metadata": {
        "id": "R2vENVgdzS0Y"
      },
      "execution_count": null,
      "outputs": []
    },
    {
      "cell_type": "code",
      "source": [
        "Hotel_df"
      ],
      "metadata": {
        "id": "GsIbZbR4zS4r"
      },
      "execution_count": null,
      "outputs": []
    },
    {
      "cell_type": "markdown",
      "source": [
        "Removing attributes"
      ],
      "metadata": {
        "id": "DCIpKuYqZfHX"
      }
    },
    {
      "cell_type": "code",
      "source": [
        "columns_to_remove = [\"Hotel_Address\", \"Additional_Number_of_Scoring\", \"Days_since_review\", \"lat\", \"lng\"]\n",
        "\n",
        "Hotel_df_cleaned = Hotel_df.drop(columns=columns_to_remove, errors='ignore')"
      ],
      "metadata": {
        "id": "GmrQjLTtZir2"
      },
      "execution_count": null,
      "outputs": []
    },
    {
      "cell_type": "markdown",
      "source": [
        "\"Naming, Hotel_df cleaned & test it\""
      ],
      "metadata": {
        "id": "xa9161mobXBE"
      }
    },
    {
      "cell_type": "markdown",
      "source": [
        "Tokenization"
      ],
      "metadata": {
        "id": "bxMsIok5OfQt"
      }
    },
    {
      "cell_type": "code",
      "source": [
        "nltk.download('punkt')"
      ],
      "metadata": {
        "id": "6-VhKri-zS-b"
      },
      "execution_count": null,
      "outputs": []
    },
    {
      "cell_type": "code",
      "source": [
        "Hotel_df['Negative_Review_tokenized'] = Hotel_df['Negative_Review'].apply(lambda x: word_tokenize(x))\n",
        "Hotel_df['Positive_Review_tokenized'] = Hotel_df['Positive_Review'].apply(lambda x: word_tokenize(x))\n"
      ],
      "metadata": {
        "id": "01LafAgBzTBi"
      },
      "execution_count": null,
      "outputs": []
    },
    {
      "cell_type": "code",
      "source": [
        "Hotel_df"
      ],
      "metadata": {
        "id": "VYsHj0nzzTDp"
      },
      "execution_count": null,
      "outputs": []
    },
    {
      "cell_type": "markdown",
      "source": [
        "Stop word removal"
      ],
      "metadata": {
        "id": "MxDB0R65Oh8j"
      }
    },
    {
      "cell_type": "code",
      "source": [
        "from nltk.corpus import stopwords"
      ],
      "metadata": {
        "id": "KfyGqmowYXxi"
      },
      "execution_count": null,
      "outputs": []
    },
    {
      "cell_type": "code",
      "source": [
        "nltk.download('stopwords')"
      ],
      "metadata": {
        "id": "K1wJW1y_zTF-"
      },
      "execution_count": null,
      "outputs": []
    },
    {
      "cell_type": "code",
      "source": [
        "def remove_stop_words(tokens):\n",
        "    stop_words = set(stopwords.words('english'))\n",
        "        stop_words.discard('no')\n",
        "        stop_words.discard('not')\n",
        "    filtered_tokens = [token for token in tokens if token.lower() not in stop_words]\n",
        "    return filtered_tokens"
      ],
      "metadata": {
        "id": "bvYbX25SIAx9"
      },
      "execution_count": null,
      "outputs": []
    },
    {
      "cell_type": "markdown",
      "source": [
        "Test if \"No\" and \"Not\" are not removed during stop words removal"
      ],
      "metadata": {
        "id": "V7ZkIpn9Lxl1"
      }
    },
    {
      "cell_type": "code",
      "source": [
        "Hotel_df['Negative_Review_tokenized_SWR'] = Hotel_df['Negative_Review_tokenized'].apply(remove_stop_words)\n",
        "Hotel_df['Positive_Review_tokenized_SWR'] = Hotel_df['Positive_Review_tokenized'].apply(remove_stop_words)"
      ],
      "metadata": {
        "id": "7rtYG7EcIA2W"
      },
      "execution_count": null,
      "outputs": []
    },
    {
      "cell_type": "code",
      "source": [
        "Hotel_df"
      ],
      "metadata": {
        "id": "LmrFCTKGIA5S"
      },
      "execution_count": null,
      "outputs": []
    },
    {
      "cell_type": "markdown",
      "source": [
        "POS-tagging"
      ],
      "metadata": {
        "id": "9PmOx_FfOkzS"
      }
    },
    {
      "cell_type": "code",
      "source": [
        "nltk.download('averaged_perceptron_tagger')"
      ],
      "metadata": {
        "colab": {
          "base_uri": "https://localhost:8080/"
        },
        "id": "QM9N7qsXIA7o",
        "outputId": "14dd9968-ae2c-4b86-e395-213e85fe06b3"
      },
      "execution_count": null,
      "outputs": [
        {
          "output_type": "stream",
          "name": "stderr",
          "text": [
            "[nltk_data] Downloading package averaged_perceptron_tagger to\n",
            "[nltk_data]     /root/nltk_data...\n",
            "[nltk_data]   Unzipping taggers/averaged_perceptron_tagger.zip.\n"
          ]
        },
        {
          "output_type": "execute_result",
          "data": {
            "text/plain": [
              "True"
            ]
          },
          "metadata": {},
          "execution_count": 45
        }
      ]
    },
    {
      "cell_type": "code",
      "source": [
        "from nltk import pos_tag"
      ],
      "metadata": {
        "id": "IJ9tUyltIA9t"
      },
      "execution_count": null,
      "outputs": []
    },
    {
      "cell_type": "code",
      "source": [
        "Hotel_df['Negative_Review_tokenized_SWR_POS'] = Hotel_df['Negative_Review_tokenized_SWR'].apply(lambda x: pos_tag(x))\n",
        "Hotel_df['Positive_Review_tokenized_SWR_POS'] = Hotel_df['Positive_Review_tokenized_SWR'].apply(lambda x: pos_tag(x))"
      ],
      "metadata": {
        "id": "_pncJfpsIBAQ"
      },
      "execution_count": null,
      "outputs": []
    },
    {
      "cell_type": "code",
      "source": [
        "Hotel_df"
      ],
      "metadata": {
        "id": "3D7pL_9WIBCX"
      },
      "execution_count": null,
      "outputs": []
    }
  ]
}